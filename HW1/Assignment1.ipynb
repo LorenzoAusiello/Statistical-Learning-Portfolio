{
 "cells": [
  {
   "cell_type": "code",
   "execution_count": 1,
   "id": "ef8fa8fb",
   "metadata": {},
   "outputs": [],
   "source": [
    "#Importing the needed modules\n",
    "import numpy as np\n",
    "from numpy import array\n",
    "import yfinance as yf\n",
    "import pandas as pd\n",
    "import matplotlib.pyplot as plt\n",
    "#Following ensure that graph is on the same page\n",
    "%matplotlib inline"
   ]
  },
  {
   "cell_type": "markdown",
   "id": "f91092b2",
   "metadata": {},
   "source": [
    "## Collect historical monthly closing prices using Yahoo Finance for GOOG, AMZN, and SPY from September 1st, 2018, to September 1st, 2023.\n"
   ]
  },
  {
   "cell_type": "code",
   "execution_count": 2,
   "id": "3819973c",
   "metadata": {},
   "outputs": [
    {
     "name": "stdout",
     "output_type": "stream",
     "text": [
      "[*********************100%***********************]  3 of 3 completed\n"
     ]
    },
    {
     "data": {
      "text/html": [
       "<div>\n",
       "<style scoped>\n",
       "    .dataframe tbody tr th:only-of-type {\n",
       "        vertical-align: middle;\n",
       "    }\n",
       "\n",
       "    .dataframe tbody tr th {\n",
       "        vertical-align: top;\n",
       "    }\n",
       "\n",
       "    .dataframe thead tr th {\n",
       "        text-align: left;\n",
       "    }\n",
       "\n",
       "    .dataframe thead tr:last-of-type th {\n",
       "        text-align: right;\n",
       "    }\n",
       "</style>\n",
       "<table border=\"1\" class=\"dataframe\">\n",
       "  <thead>\n",
       "    <tr>\n",
       "      <th></th>\n",
       "      <th>AMZN</th>\n",
       "      <th>GOOG</th>\n",
       "      <th>SPY</th>\n",
       "    </tr>\n",
       "    <tr>\n",
       "      <th></th>\n",
       "      <th>Adj Close</th>\n",
       "      <th>Adj Close</th>\n",
       "      <th>Adj Close</th>\n",
       "    </tr>\n",
       "    <tr>\n",
       "      <th>Date</th>\n",
       "      <th></th>\n",
       "      <th></th>\n",
       "      <th></th>\n",
       "    </tr>\n",
       "  </thead>\n",
       "  <tbody>\n",
       "    <tr>\n",
       "      <th>2018-09-30</th>\n",
       "      <td>100.150002</td>\n",
       "      <td>59.673500</td>\n",
       "      <td>266.362213</td>\n",
       "    </tr>\n",
       "    <tr>\n",
       "      <th>2018-10-31</th>\n",
       "      <td>79.900497</td>\n",
       "      <td>53.838501</td>\n",
       "      <td>247.955536</td>\n",
       "    </tr>\n",
       "    <tr>\n",
       "      <th>2018-11-30</th>\n",
       "      <td>84.508499</td>\n",
       "      <td>54.721500</td>\n",
       "      <td>252.554916</td>\n",
       "    </tr>\n",
       "    <tr>\n",
       "      <th>2018-12-31</th>\n",
       "      <td>75.098503</td>\n",
       "      <td>51.780499</td>\n",
       "      <td>230.317856</td>\n",
       "    </tr>\n",
       "    <tr>\n",
       "      <th>2019-01-31</th>\n",
       "      <td>85.936501</td>\n",
       "      <td>55.818501</td>\n",
       "      <td>248.758347</td>\n",
       "    </tr>\n",
       "  </tbody>\n",
       "</table>\n",
       "</div>"
      ],
      "text/plain": [
       "                  AMZN       GOOG         SPY\n",
       "             Adj Close  Adj Close   Adj Close\n",
       "Date                                         \n",
       "2018-09-30  100.150002  59.673500  266.362213\n",
       "2018-10-31   79.900497  53.838501  247.955536\n",
       "2018-11-30   84.508499  54.721500  252.554916\n",
       "2018-12-31   75.098503  51.780499  230.317856\n",
       "2019-01-31   85.936501  55.818501  248.758347"
      ]
     },
     "execution_count": 2,
     "metadata": {},
     "output_type": "execute_result"
    }
   ],
   "source": [
    "# Define the stock symbols and date range\n",
    "symbols = ['GOOG', 'AMZN', 'SPY']\n",
    "start_date = '2018-09-01'\n",
    "end_date = '2023-09-01'\n",
    "\n",
    "# Download historical data\n",
    "data = yf.download(symbols, start=start_date, end=end_date, group_by='ticker')\n",
    "\n",
    "# Extract the adjusted closing prices\n",
    "closing_prices=data[[('AMZN','Adj Close'),('GOOG','Adj Close'),('SPY','Adj Close')]]\n",
    "\n",
    "# Resample the data to get monthly closing prices\n",
    "monthly_closing_prices = closing_prices.resample('M').ffill()\n",
    "monthly_closing_prices.head()"
   ]
  },
  {
   "cell_type": "markdown",
   "id": "772b60be",
   "metadata": {},
   "source": [
    "## Calculate monthly returns for each stock.\n"
   ]
  },
  {
   "cell_type": "code",
   "execution_count": 3,
   "id": "f882295f",
   "metadata": {},
   "outputs": [
    {
     "data": {
      "text/html": [
       "<div>\n",
       "<style scoped>\n",
       "    .dataframe tbody tr th:only-of-type {\n",
       "        vertical-align: middle;\n",
       "    }\n",
       "\n",
       "    .dataframe tbody tr th {\n",
       "        vertical-align: top;\n",
       "    }\n",
       "\n",
       "    .dataframe thead th {\n",
       "        text-align: right;\n",
       "    }\n",
       "</style>\n",
       "<table border=\"1\" class=\"dataframe\">\n",
       "  <thead>\n",
       "    <tr style=\"text-align: right;\">\n",
       "      <th></th>\n",
       "      <th>GOOG</th>\n",
       "      <th>AMZN</th>\n",
       "      <th>SPY</th>\n",
       "    </tr>\n",
       "    <tr>\n",
       "      <th>Date</th>\n",
       "      <th></th>\n",
       "      <th></th>\n",
       "      <th></th>\n",
       "    </tr>\n",
       "  </thead>\n",
       "  <tbody>\n",
       "    <tr>\n",
       "      <th>2018-10-31</th>\n",
       "      <td>-0.097782</td>\n",
       "      <td>-0.202192</td>\n",
       "      <td>-0.069104</td>\n",
       "    </tr>\n",
       "    <tr>\n",
       "      <th>2018-11-30</th>\n",
       "      <td>0.016401</td>\n",
       "      <td>0.057672</td>\n",
       "      <td>0.018549</td>\n",
       "    </tr>\n",
       "    <tr>\n",
       "      <th>2018-12-31</th>\n",
       "      <td>-0.053745</td>\n",
       "      <td>-0.111350</td>\n",
       "      <td>-0.088048</td>\n",
       "    </tr>\n",
       "    <tr>\n",
       "      <th>2019-01-31</th>\n",
       "      <td>0.077983</td>\n",
       "      <td>0.144317</td>\n",
       "      <td>0.080065</td>\n",
       "    </tr>\n",
       "    <tr>\n",
       "      <th>2019-02-28</th>\n",
       "      <td>0.003180</td>\n",
       "      <td>-0.045906</td>\n",
       "      <td>0.032416</td>\n",
       "    </tr>\n",
       "  </tbody>\n",
       "</table>\n",
       "</div>"
      ],
      "text/plain": [
       "                GOOG      AMZN       SPY\n",
       "Date                                    \n",
       "2018-10-31 -0.097782 -0.202192 -0.069104\n",
       "2018-11-30  0.016401  0.057672  0.018549\n",
       "2018-12-31 -0.053745 -0.111350 -0.088048\n",
       "2019-01-31  0.077983  0.144317  0.080065\n",
       "2019-02-28  0.003180 -0.045906  0.032416"
      ]
     },
     "execution_count": 3,
     "metadata": {},
     "output_type": "execute_result"
    }
   ],
   "source": [
    "# Calculate monthly returns\n",
    "returns = pd.DataFrame()\n",
    "returns['GOOG'] = monthly_closing_prices['GOOG'].pct_change().dropna()\n",
    "returns['AMZN'] = monthly_closing_prices['AMZN'].pct_change().dropna()\n",
    "returns['SPY'] = monthly_closing_prices['SPY'].pct_change().dropna()\n",
    "returns.head()"
   ]
  },
  {
   "cell_type": "markdown",
   "id": "4ab00d11",
   "metadata": {},
   "source": [
    "## Perform linear regression to determine the α (alpha) and β (beta) coefficients for each stock based on monthly returns."
   ]
  },
  {
   "cell_type": "code",
   "execution_count": 4,
   "id": "68750087",
   "metadata": {
    "scrolled": true
   },
   "outputs": [
    {
     "name": "stdout",
     "output_type": "stream",
     "text": [
      "Alpha and Beta for GOOG:\n",
      "Alpha (α): 0.006339843617345166\n",
      "Beta (β): 1.0688442033185686\n"
     ]
    },
    {
     "data": {
      "image/png": "[encoded data removed]",
      "text/plain": [
       "<Figure size 640x480 with 1 Axes>"
      ]
     },
     "metadata": {},
     "output_type": "display_data"
    },
    {
     "name": "stdout",
     "output_type": "stream",
     "text": [
      "\n",
      "Alpha and Beta for AMZN:\n",
      "Alpha (α): -0.002385295381030096\n",
      "Beta (β): 1.2346763668907625\n"
     ]
    },
    {
     "data": {
      "image/png": "[encoded data removed]",
      "text/plain": [
       "<Figure size 640x480 with 1 Axes>"
      ]
     },
     "metadata": {},
     "output_type": "display_data"
    }
   ],
   "source": [
    "#Extracting Amazon and S&P 500 data\n",
    "x = returns.SPY\n",
    "y = returns.GOOG\n",
    "z = returns.AMZN\n",
    "\n",
    "#Perform linear regression for GOOG\n",
    "model1 = np.polyfit(x, y, 1)\n",
    "\n",
    "# Perform linear regression for AMZN\n",
    "model2 = np.polyfit(x, z, 1)\n",
    "\n",
    "# Print alpha and beta for GOOG\n",
    "print(\"Alpha and Beta for GOOG:\")\n",
    "print(\"Alpha (α):\", model1[1])\n",
    "print(\"Beta (β):\", model1[0])\n",
    "#Scatter plot of data\n",
    "plt.scatter(returns.SPY,returns.GOOG)\n",
    "plt.xlabel(\"SPY\")\n",
    "plt.ylabel(\"GOOG\")\n",
    "plt.title('GOOG vs SPY')\n",
    "plt.show()\n",
    "\n",
    "\n",
    "# Print alpha and beta for AMZN\n",
    "print(\"\\nAlpha and Beta for AMZN:\")\n",
    "print(\"Alpha (α):\", model2[1])\n",
    "print(\"Beta (β):\", model2[0])\n",
    "#Scatter plot of data\n",
    "plt.scatter(returns.SPY,returns.AMZN)\n",
    "plt.xlabel(\"SPY\")\n",
    "plt.ylabel(\"AMZN\")\n",
    "plt.title('AMZN vs SPY')\n",
    "plt.show()\n",
    "\n"
   ]
  },
  {
   "cell_type": "markdown",
   "id": "05bcbb6f",
   "metadata": {},
   "source": [
    "\n",
    "\n",
    "\n",
    "\n",
    "## Implement machine learning techniques to determine α and β using different learning rates and numbers of epochs."
   ]
  },
  {
   "cell_type": "code",
   "execution_count": 5,
   "id": "9b85b468",
   "metadata": {},
   "outputs": [
    {
     "name": "stdout",
     "output_type": "stream",
     "text": [
      "Intercept= -0.001889335230374546 Slope= 1.1909630881339293 error = 0.005431352012318745\n"
     ]
    },
    {
     "data": {
      "text/plain": [
       "[<matplotlib.lines.Line2D at 0x23c082398d0>]"
      ]
     },
     "execution_count": 5,
     "metadata": {},
     "output_type": "execute_result"
    },
    {
     "data": {
      "image/png": "[encoded data removed]",
      "text/plain": [
       "<Figure size 640x480 with 1 Axes>"
      ]
     },
     "metadata": {},
     "output_type": "display_data"
    }
   ],
   "source": [
    "#Running Regression using Machine Learning Techniques\n",
    "\n",
    "#Extracting Amazon and S&P 500 data\n",
    "y = returns.AMZN\n",
    "x = returns.SPY\n",
    "\n",
    "#Using machine learning to converge on the regression model\n",
    "\n",
    "# determining the number of runs called epochs\n",
    "epochs = 5000 \n",
    "#Learning rate, the amount at each step the parameters are adjusted\n",
    "lr = 0.001 \n",
    "#Number of data points for each feature  \n",
    "m = len(x)\n",
    "#Starting numbers for intercept and slope\n",
    "b0 = 1\n",
    "b1 = 1.2\n",
    "#Keeping track how error declines \n",
    "error_list =[]\n",
    "#Defininf a function do to the itterations\n",
    "def gradient(b0,b1):\n",
    " # Finding the gradients \n",
    "    db0 = -2*(np.sum(y- b0 - b1*x))/m\n",
    "    db1 = -2*(np.dot(x ,(y- b0 - b1*x)))/m\n",
    "  #updating slope and interface\n",
    "    b0 -= db0 * lr\n",
    "    b1 -= db1*lr \n",
    "    return b0, b1\n",
    "\n",
    "#Running the model\n",
    "for i in range(epochs):\n",
    "    error = np.sum(np.square(y-b0 - b1*x))/m\n",
    "    error_list.append(error)\n",
    "    b0 , b1 = gradient(b0,b1)\n",
    "\n",
    "print(\"Intercept=\", b0, \"Slope=\", b1, \"error =\", error)\n",
    "#Ploting the error to see how it declines\n",
    "plt.plot(error_list)\n"
   ]
  },
  {
   "cell_type": "code",
   "execution_count": 25,
   "id": "0e1d2c84",
   "metadata": {},
   "outputs": [
    {
     "name": "stdout",
     "output_type": "stream",
     "text": [
      "2.0040571984183013 0.020411257893784993 1.009490583427958\n"
     ]
    }
   ],
   "source": [
    "#Running Regression using Machine Learning Techniques\n",
    "\n",
    "#Extracting Amazon and S&P 500 data\n",
    "y = returns.AMZN\n",
    "x = returns.SPY\n",
    "\n",
    "#Using machine learning to converge on the regression model\n",
    "\n",
    "# determining the number of runs called epochs\n",
    "epochs = 5000 \n",
    "#Learning rate, the amount at each step the parameters are adjusted\n",
    "lr = 0.001 \n",
    "#Number of data points for each feature  \n",
    "m = len(x)\n",
    "#Starting numbers for intercept and slope\n",
    "b0 = 1\n",
    "b1 = 1.2\n",
    "error=np.sum(np.square(y-b0 - b1*x))/m\n",
    "\n",
    "db0 = -2*(np.sum(y- b0 - b1*x))/m\n",
    "db1 = -2*(np.dot(x ,(y- b0 - b1*x)))/m\n",
    "print(db0,db1,error)"
   ]
  },
  {
   "cell_type": "code",
   "execution_count": 15,
   "id": "c53505b9",
   "metadata": {},
   "outputs": [
    {
     "name": "stdout",
     "output_type": "stream",
     "text": [
      "Intercept= -0.002038799600322385 Slope= 1.2010902440431375 error = 0.005429057537157636\n"
     ]
    },
    {
     "data": {
      "text/plain": [
       "[<matplotlib.lines.Line2D at 0x234b3db5ae0>]"
      ]
     },
     "execution_count": 15,
     "metadata": {},
     "output_type": "execute_result"
    },
    {
     "data": {
      "image/png": "[encoded data removed]",
      "text/plain": [
       "<Figure size 640x480 with 1 Axes>"
      ]
     },
     "metadata": {},
     "output_type": "display_data"
    }
   ],
   "source": [
    "#Running Regression using Machine Learning Techniques\n",
    "\n",
    "#Extracting Amazon and S&P 500 data\n",
    "y = returns.AMZN\n",
    "x = returns.SPY\n",
    "\n",
    "#Using machine learning to converge on the regression model\n",
    "\n",
    "# determining the number of runs called epochs\n",
    "epochs = 5000 \n",
    "#Learning rate, the amount at each step the parameters are adjusted\n",
    "lr = 0.01 \n",
    "#Number of data points for each feature  \n",
    "m = len(x)\n",
    "#Starting numbers for intercept and slope\n",
    "b0 = 1\n",
    "b1 = 1.2\n",
    "#Keeping track how error declines \n",
    "error_list =[]\n",
    "#Defininf a function do to the itterations\n",
    "def gradient(b0,b1):\n",
    " # Finding the gradients \n",
    "    db0 = -2*(np.sum(y- b0 - b1*x))/m\n",
    "    db1 = -2*(np.dot(x ,(y- b0 - b1*x)))/m\n",
    "  #updating slope and interface\n",
    "    b0 -= db0 * lr\n",
    "    b1 -= db1*lr \n",
    "    return b0, b1\n",
    "\n",
    "#Running the model\n",
    "for i in range(epochs):\n",
    "    error = np.sum(np.square(y-b0 - b1*x))/m\n",
    "    error_list.append(error)\n",
    "    b0 , b1 = gradient(b0,b1)\n",
    "\n",
    "print(\"Intercept=\", b0, \"Slope=\", b1, \"error =\", error)\n",
    "#Ploting the error to see how it declines\n",
    "plt.plot(error_list)"
   ]
  },
  {
   "cell_type": "code",
   "execution_count": 16,
   "id": "dd3458d0",
   "metadata": {},
   "outputs": [
    {
     "name": "stdout",
     "output_type": "stream",
     "text": [
      "Intercept= -0.0023852914884895755 Slope= 1.2346763468001043 error = 0.005425753670481344\n"
     ]
    },
    {
     "data": {
      "text/plain": [
       "[<matplotlib.lines.Line2D at 0x234b3ddd7e0>]"
      ]
     },
     "execution_count": 16,
     "metadata": {},
     "output_type": "execute_result"
    },
    {
     "data": {
      "image/png": "[encoded data removed]",
      "text/plain": [
       "<Figure size 640x480 with 1 Axes>"
      ]
     },
     "metadata": {},
     "output_type": "display_data"
    }
   ],
   "source": [
    "#Running Regression using Machine Learning Techniques\n",
    "\n",
    "#Extracting Amazon and S&P 500 data\n",
    "y = returns.AMZN\n",
    "x = returns.SPY\n",
    "\n",
    "#Using machine learning to converge on the regression model\n",
    "\n",
    "# determining the number of runs called epochs\n",
    "epochs = 5000 \n",
    "#Learning rate, the amount at each step the parameters are adjusted\n",
    "lr = 0.5 \n",
    "#Number of data points for each feature  \n",
    "m = len(x)\n",
    "#Starting numbers for intercept and slope\n",
    "b0 = 1\n",
    "b1 = 1.2\n",
    "#Keeping track how error declines \n",
    "error_list =[]\n",
    "#Defininf a function do to the itterations\n",
    "def gradient(b0,b1):\n",
    " # Finding the gradients \n",
    "    db0 = -2*(np.sum(y- b0 - b1*x))/m\n",
    "    db1 = -2*(np.dot(x ,(y- b0 - b1*x)))/m\n",
    "  #updating slope and interface\n",
    "    b0 -= db0 * lr\n",
    "    b1 -= db1*lr \n",
    "    return b0, b1\n",
    "\n",
    "#Running the model\n",
    "for i in range(epochs):\n",
    "    error = np.sum(np.square(y-b0 - b1*x))/m\n",
    "    error_list.append(error)\n",
    "    b0 , b1 = gradient(b0,b1)\n",
    "\n",
    "print(\"Intercept=\", b0, \"Slope=\", b1, \"error =\", error)\n",
    "#Ploting the error to see how it declines\n",
    "plt.plot(error_list)"
   ]
  },
  {
   "cell_type": "code",
   "execution_count": 17,
   "id": "a5f1418c",
   "metadata": {},
   "outputs": [
    {
     "name": "stdout",
     "output_type": "stream",
     "text": [
      "Intercept= 0.13337156619197302 Slope= 1.191322279356245 error = 0.0238137617439785\n"
     ]
    },
    {
     "data": {
      "text/plain": [
       "[<matplotlib.lines.Line2D at 0x234b3e38f10>]"
      ]
     },
     "execution_count": 17,
     "metadata": {},
     "output_type": "execute_result"
    },
    {
     "data": {
      "image/png": "[encoded data removed]",
      "text/plain": [
       "<Figure size 640x480 with 1 Axes>"
      ]
     },
     "metadata": {},
     "output_type": "display_data"
    }
   ],
   "source": [
    "#Running Regression using Machine Learning Techniques\n",
    "\n",
    "#Extracting Amazon and S&P 500 data\n",
    "y = returns.AMZN\n",
    "x = returns.SPY\n",
    "\n",
    "#Using machine learning to converge on the regression model\n",
    "\n",
    "# determining the number of runs called epochs\n",
    "epochs = 1000 \n",
    "#Learning rate, the amount at each step the parameters are adjusted\n",
    "lr = 0.001 \n",
    "#Number of data points for each feature  \n",
    "m = len(x)\n",
    "#Starting numbers for intercept and slope\n",
    "b0 = 1\n",
    "b1 = 1.2\n",
    "#Keeping track how error declines \n",
    "error_list =[]\n",
    "#Defininf a function do to the itterations\n",
    "def gradient(b0,b1):\n",
    " # Finding the gradients \n",
    "    db0 = -2*(np.sum(y- b0 - b1*x))/m\n",
    "    db1 = -2*(np.dot(x ,(y- b0 - b1*x)))/m\n",
    "  #updating slope and interface\n",
    "    b0 -= db0 * lr\n",
    "    b1 -= db1*lr \n",
    "    return b0, b1\n",
    "\n",
    "#Running the model\n",
    "for i in range(epochs):\n",
    "    error = np.sum(np.square(y-b0 - b1*x))/m\n",
    "    error_list.append(error)\n",
    "    b0 , b1 = gradient(b0,b1)\n",
    "\n",
    "print(\"Intercept=\", b0, \"Slope=\", b1, \"error =\", error)\n",
    "#Ploting the error to see how it declines\n",
    "plt.plot(error_list)"
   ]
  },
  {
   "cell_type": "code",
   "execution_count": 18,
   "id": "140e1aff",
   "metadata": {},
   "outputs": [
    {
     "name": "stdout",
     "output_type": "stream",
     "text": [
      "Intercept= -0.0019473309083607206 Slope= 1.1922241768254342 error = 0.005431032078692784\n"
     ]
    },
    {
     "data": {
      "text/plain": [
       "[<matplotlib.lines.Line2D at 0x234b41d7b20>]"
      ]
     },
     "execution_count": 18,
     "metadata": {},
     "output_type": "execute_result"
    },
    {
     "data": {
      "image/png": "[encoded data removed]",
      "text/plain": [
       "<Figure size 640x480 with 1 Axes>"
      ]
     },
     "metadata": {},
     "output_type": "display_data"
    }
   ],
   "source": [
    "#Running Regression using Machine Learning Techniques\n",
    "\n",
    "#Extracting Amazon and S&P 500 data\n",
    "y = returns.AMZN\n",
    "x = returns.SPY\n",
    "\n",
    "#Using machine learning to converge on the regression model\n",
    "\n",
    "# determining the number of runs called epochs\n",
    "epochs = 1000 \n",
    "#Learning rate, the amount at each step the parameters are adjusted\n",
    "lr = 0.01 \n",
    "#Number of data points for each feature  \n",
    "m = len(x)\n",
    "#Starting numbers for intercept and slope\n",
    "b0 = 1\n",
    "b1 = 1.2\n",
    "#Keeping track how error declines \n",
    "error_list =[]\n",
    "#Defininf a function do to the itterations\n",
    "def gradient(b0,b1):\n",
    " # Finding the gradients \n",
    "    db0 = -2*(np.sum(y- b0 - b1*x))/m\n",
    "    db1 = -2*(np.dot(x ,(y- b0 - b1*x)))/m\n",
    "  #updating slope and interface\n",
    "    b0 -= db0 * lr\n",
    "    b1 -= db1*lr \n",
    "    return b0, b1\n",
    "\n",
    "#Running the model\n",
    "for i in range(epochs):\n",
    "    error = np.sum(np.square(y-b0 - b1*x))/m\n",
    "    error_list.append(error)\n",
    "    b0 , b1 = gradient(b0,b1)\n",
    "\n",
    "print(\"Intercept=\", b0, \"Slope=\", b1, \"error =\", error)\n",
    "#Ploting the error to see how it declines\n",
    "plt.plot(error_list)"
   ]
  },
  {
   "cell_type": "code",
   "execution_count": 19,
   "id": "613d3293",
   "metadata": {},
   "outputs": [
    {
     "name": "stdout",
     "output_type": "stream",
     "text": [
      "Intercept= -0.002360558084321433 Slope= 1.232278891961219 error = 0.005425770602429985\n"
     ]
    },
    {
     "data": {
      "text/plain": [
       "[<matplotlib.lines.Line2D at 0x234b424e830>]"
      ]
     },
     "execution_count": 19,
     "metadata": {},
     "output_type": "execute_result"
    },
    {
     "data": {
      "image/png": "[encoded data removed]",
      "text/plain": [
       "<Figure size 640x480 with 1 Axes>"
      ]
     },
     "metadata": {},
     "output_type": "display_data"
    }
   ],
   "source": [
    "#Running Regression using Machine Learning Techniques\n",
    "\n",
    "#Extracting Amazon and S&P 500 data\n",
    "y = returns.AMZN\n",
    "x = returns.SPY\n",
    "\n",
    "#Using machine learning to converge on the regression model\n",
    "\n",
    "# determining the number of runs called epochs\n",
    "epochs = 1000 \n",
    "#Learning rate, the amount at each step the parameters are adjusted\n",
    "lr = 0.5 \n",
    "#Number of data points for each feature  \n",
    "m = len(x)\n",
    "#Starting numbers for intercept and slope\n",
    "b0 = 1\n",
    "b1 = 1.2\n",
    "#Keeping track how error declines \n",
    "error_list =[]\n",
    "#Defininf a function do to the itterations\n",
    "def gradient(b0,b1):\n",
    " # Finding the gradients \n",
    "    db0 = -2*(np.sum(y- b0 - b1*x))/m\n",
    "    db1 = -2*(np.dot(x ,(y- b0 - b1*x)))/m\n",
    "  #updating slope and interface\n",
    "    b0 -= db0 * lr\n",
    "    b1 -= db1*lr \n",
    "    return b0, b1\n",
    "\n",
    "#Running the model\n",
    "for i in range(epochs):\n",
    "    error = np.sum(np.square(y-b0 - b1*x))/m\n",
    "    error_list.append(error)\n",
    "    b0 , b1 = gradient(b0,b1)\n",
    "\n",
    "print(\"Intercept=\", b0, \"Slope=\", b1, \"error =\", error)\n",
    "#Ploting the error to see how it declines\n",
    "plt.plot(error_list)"
   ]
  },
  {
   "cell_type": "code",
   "execution_count": 20,
   "id": "b7c220a0",
   "metadata": {},
   "outputs": [
    {
     "name": "stdout",
     "output_type": "stream",
     "text": [
      "Intercept= 0.0051733254995239624 Slope= 1.186247802437093 error = 0.0028936020253519956\n"
     ]
    },
    {
     "data": {
      "text/plain": [
       "[<matplotlib.lines.Line2D at 0x234b42d99f0>]"
      ]
     },
     "execution_count": 20,
     "metadata": {},
     "output_type": "execute_result"
    },
    {
     "data": {
      "image/png": "[encoded data removed]",
      "text/plain": [
       "<Figure size 640x480 with 1 Axes>"
      ]
     },
     "metadata": {},
     "output_type": "display_data"
    }
   ],
   "source": [
    "#Running Regression using Machine Learning Techniques\n",
    "\n",
    "#Extracting Google and S&P 500 data\n",
    "y = returns.GOOG\n",
    "x = returns.SPY\n",
    "\n",
    "#Using machine learning to converge on the regression model\n",
    "\n",
    "# determining the number of runs called epochs\n",
    "epochs = 5000 \n",
    "#Learning rate, the amount at each step the parameters are adjusted\n",
    "lr = 0.001 \n",
    "#Number of data points for each feature  \n",
    "m = len(x)\n",
    "#Starting numbers for intercept and slope\n",
    "b0 = 1\n",
    "b1 = 1.2\n",
    "#Keeping track how error declines \n",
    "error_list =[]\n",
    "#Defininf a function do to the itterations\n",
    "def gradient(b0,b1):\n",
    " # Finding the gradients \n",
    "    db0 = -2*(np.sum(y- b0 - b1*x))/m\n",
    "    db1 = -2*(np.dot(x ,(y- b0 - b1*x)))/m\n",
    "  #updating slope and interface\n",
    "    b0 -= db0 * lr\n",
    "    b1 -= db1*lr \n",
    "    return b0, b1\n",
    "\n",
    "#Running the model\n",
    "for i in range(epochs):\n",
    "    error = np.sum(np.square(y-b0 - b1*x))/m\n",
    "    error_list.append(error)\n",
    "    b0 , b1 = gradient(b0,b1)\n",
    "\n",
    "print(\"Intercept=\", b0, \"Slope=\", b1, \"error =\", error)\n",
    "#Ploting the error to see how it declines\n",
    "plt.plot(error_list)"
   ]
  },
  {
   "cell_type": "code",
   "execution_count": 21,
   "id": "7e6c87d3",
   "metadata": {},
   "outputs": [
    {
     "name": "stdout",
     "output_type": "stream",
     "text": [
      "Intercept= 0.005409263439563496 Slope= 1.1590473794689369 error = 0.002877065216695222\n"
     ]
    },
    {
     "data": {
      "text/plain": [
       "[<matplotlib.lines.Line2D at 0x234b4358f10>]"
      ]
     },
     "execution_count": 21,
     "metadata": {},
     "output_type": "execute_result"
    },
    {
     "data": {
      "image/png": "[encoded data removed]",
      "text/plain": [
       "<Figure size 640x480 with 1 Axes>"
      ]
     },
     "metadata": {},
     "output_type": "display_data"
    }
   ],
   "source": [
    "#Running Regression using Machine Learning Techniques\n",
    "\n",
    "#Extracting Google and S&P 500 data\n",
    "y = returns.GOOG\n",
    "x = returns.SPY\n",
    "\n",
    "#Using machine learning to converge on the regression model\n",
    "\n",
    "# determining the number of runs called epochs\n",
    "epochs = 5000 \n",
    "#Learning rate, the amount at each step the parameters are adjusted\n",
    "lr = 0.01 \n",
    "#Number of data points for each feature  \n",
    "m = len(x)\n",
    "#Starting numbers for intercept and slope\n",
    "b0 = 1\n",
    "b1 = 1.2\n",
    "#Keeping track how error declines \n",
    "error_list =[]\n",
    "#Defininf a function do to the itterations\n",
    "def gradient(b0,b1):\n",
    " # Finding the gradients \n",
    "    db0 = -2*(np.sum(y- b0 - b1*x))/m\n",
    "    db1 = -2*(np.dot(x ,(y- b0 - b1*x)))/m\n",
    "  #updating slope and interface\n",
    "    b0 -= db0 * lr\n",
    "    b1 -= db1*lr \n",
    "    return b0, b1\n",
    "\n",
    "#Running the model\n",
    "for i in range(epochs):\n",
    "    error = np.sum(np.square(y-b0 - b1*x))/m\n",
    "    error_list.append(error)\n",
    "    b0 , b1 = gradient(b0,b1)\n",
    "\n",
    "print(\"Intercept=\", b0, \"Slope=\", b1, \"error =\", error)\n",
    "#Ploting the error to see how it declines\n",
    "plt.plot(error_list)"
   ]
  },
  {
   "cell_type": "code",
   "execution_count": 22,
   "id": "4b2342fa",
   "metadata": {},
   "outputs": [
    {
     "name": "stdout",
     "output_type": "stream",
     "text": [
      "Intercept= 0.0063398442647001705 Slope= 1.068844450384427 error = 0.0028532340903418916\n"
     ]
    },
    {
     "data": {
      "text/plain": [
       "[<matplotlib.lines.Line2D at 0x234b43b7e50>]"
      ]
     },
     "execution_count": 22,
     "metadata": {},
     "output_type": "execute_result"
    },
    {
     "data": {
      "image/png": "[encoded data removed]",
      "text/plain": [
       "<Figure size 640x480 with 1 Axes>"
      ]
     },
     "metadata": {},
     "output_type": "display_data"
    }
   ],
   "source": [
    "#Running Regression using Machine Learning Techniques\n",
    "\n",
    "#Extracting Google and S&P 500 data\n",
    "y = returns.GOOG\n",
    "x = returns.SPY\n",
    "\n",
    "#Using machine learning to converge on the regression model\n",
    "\n",
    "# determining the number of runs called epochs\n",
    "epochs = 5000 \n",
    "#Learning rate, the amount at each step the parameters are adjusted\n",
    "lr = 0.5 \n",
    "#Number of data points for each feature  \n",
    "m = len(x)\n",
    "#Starting numbers for intercept and slope\n",
    "b0 = 1\n",
    "b1 = 1.2\n",
    "#Keeping track how error declines \n",
    "error_list =[]\n",
    "#Defininf a function do to the itterations\n",
    "def gradient(b0,b1):\n",
    " # Finding the gradients \n",
    "    db0 = -2*(np.sum(y- b0 - b1*x))/m\n",
    "    db1 = -2*(np.dot(x ,(y- b0 - b1*x)))/m\n",
    "  #updating slope and interface\n",
    "    b0 -= db0 * lr\n",
    "    b1 -= db1*lr \n",
    "    return b0, b1\n",
    "\n",
    "#Running the model\n",
    "for i in range(epochs):\n",
    "    error = np.sum(np.square(y-b0 - b1*x))/m\n",
    "    error_list.append(error)\n",
    "    b0 , b1 = gradient(b0,b1)\n",
    "\n",
    "print(\"Intercept=\", b0, \"Slope=\", b1, \"error =\", error)\n",
    "#Ploting the error to see how it declines\n",
    "plt.plot(error_list)"
   ]
  },
  {
   "cell_type": "code",
   "execution_count": 23,
   "id": "4eac9a94",
   "metadata": {},
   "outputs": [
    {
     "name": "stdout",
     "output_type": "stream",
     "text": [
      "Intercept= 0.13944805644973254 Slope= 1.1904160880679704 error = 0.02102122552944066\n"
     ]
    },
    {
     "data": {
      "text/plain": [
       "[<matplotlib.lines.Line2D at 0x234b543ac20>]"
      ]
     },
     "execution_count": 23,
     "metadata": {},
     "output_type": "execute_result"
    },
    {
     "data": {
      "image/png": "[encoded data removed]",
      "text/plain": [
       "<Figure size 640x480 with 1 Axes>"
      ]
     },
     "metadata": {},
     "output_type": "display_data"
    }
   ],
   "source": [
    "#Running Regression using Machine Learning Techniques\n",
    "\n",
    "#Extracting Google and S&P 500 data\n",
    "y = returns.GOOG\n",
    "x = returns.SPY\n",
    "\n",
    "#Using machine learning to converge on the regression model\n",
    "\n",
    "# determining the number of runs called epochs\n",
    "epochs = 1000 \n",
    "#Learning rate, the amount at each step the parameters are adjusted\n",
    "lr = 0.001 \n",
    "#Number of data points for each feature  \n",
    "m = len(x)\n",
    "#Starting numbers for intercept and slope\n",
    "b0 = 1\n",
    "b1 = 1.2\n",
    "#Keeping track how error declines \n",
    "error_list =[]\n",
    "#Defininf a function do to the itterations\n",
    "def gradient(b0,b1):\n",
    " # Finding the gradients \n",
    "    db0 = -2*(np.sum(y- b0 - b1*x))/m\n",
    "    db1 = -2*(np.dot(x ,(y- b0 - b1*x)))/m\n",
    "  #updating slope and interface\n",
    "    b0 -= db0 * lr\n",
    "    b1 -= db1*lr \n",
    "    return b0, b1\n",
    "\n",
    "#Running the model\n",
    "for i in range(epochs):\n",
    "    error = np.sum(np.square(y-b0 - b1*x))/m\n",
    "    error_list.append(error)\n",
    "    b0 , b1 = gradient(b0,b1)\n",
    "\n",
    "print(\"Intercept=\", b0, \"Slope=\", b1, \"error =\", error)\n",
    "#Ploting the error to see how it declines\n",
    "plt.plot(error_list)"
   ]
  },
  {
   "cell_type": "code",
   "execution_count": 24,
   "id": "2744a837",
   "metadata": {},
   "outputs": [
    {
     "name": "stdout",
     "output_type": "stream",
     "text": [
      "Intercept= 0.005163610167189947 Slope= 1.182859169733159 error = 0.0028913077856074537\n"
     ]
    },
    {
     "data": {
      "text/plain": [
       "[<matplotlib.lines.Line2D at 0x234b54b2020>]"
      ]
     },
     "execution_count": 24,
     "metadata": {},
     "output_type": "execute_result"
    },
    {
     "data": {
      "image/png": "[encoded data removed]",
      "text/plain": [
       "<Figure size 640x480 with 1 Axes>"
      ]
     },
     "metadata": {},
     "output_type": "display_data"
    }
   ],
   "source": [
    "#Running Regression using Machine Learning Techniques\n",
    "\n",
    "#Extracting Google and S&P 500 data\n",
    "y = returns.GOOG\n",
    "x = returns.SPY\n",
    "\n",
    "#Using machine learning to converge on the regression model\n",
    "\n",
    "# determining the number of runs called epochs\n",
    "epochs = 1000 \n",
    "#Learning rate, the amount at each step the parameters are adjusted\n",
    "lr = 0.01 \n",
    "#Number of data points for each feature  \n",
    "m = len(x)\n",
    "#Starting numbers for intercept and slope\n",
    "b0 = 1\n",
    "b1 = 1.2\n",
    "#Keeping track how error declines \n",
    "error_list =[]\n",
    "#Defininf a function do to the itterations\n",
    "def gradient(b0,b1):\n",
    " # Finding the gradients \n",
    "    db0 = -2*(np.sum(y- b0 - b1*x))/m\n",
    "    db1 = -2*(np.dot(x ,(y- b0 - b1*x)))/m\n",
    "  #updating slope and interface\n",
    "    b0 -= db0 * lr\n",
    "    b1 -= db1*lr \n",
    "    return b0, b1\n",
    "\n",
    "#Running the model\n",
    "for i in range(epochs):\n",
    "    error = np.sum(np.square(y-b0 - b1*x))/m\n",
    "    error_list.append(error)\n",
    "    b0 , b1 = gradient(b0,b1)\n",
    "\n",
    "print(\"Intercept=\", b0, \"Slope=\", b1, \"error =\", error)\n",
    "#Ploting the error to see how it declines\n",
    "plt.plot(error_list)"
   ]
  },
  {
   "cell_type": "code",
   "execution_count": 25,
   "id": "a4060c0e",
   "metadata": {},
   "outputs": [
    {
     "name": "stdout",
     "output_type": "stream",
     "text": [
      "Intercept= 0.00627341722139774 Slope= 1.0752833471620638 error = 0.0028533562222094896\n"
     ]
    },
    {
     "data": {
      "text/plain": [
       "[<matplotlib.lines.Line2D at 0x234b5674ee0>]"
      ]
     },
     "execution_count": 25,
     "metadata": {},
     "output_type": "execute_result"
    },
    {
     "data": {
      "image/png": "[encoded data removed]",
      "text/plain": [
       "<Figure size 640x480 with 1 Axes>"
      ]
     },
     "metadata": {},
     "output_type": "display_data"
    }
   ],
   "source": [
    "#Running Regression using Machine Learning Techniques\n",
    "\n",
    "#Extracting Google and S&P 500 data\n",
    "y = returns.GOOG\n",
    "x = returns.SPY\n",
    "\n",
    "#Using machine learning to converge on the regression model\n",
    "\n",
    "# determining the number of runs called epochs\n",
    "epochs = 1000 \n",
    "#Learning rate, the amount at each step the parameters are adjusted\n",
    "lr = 0.5 \n",
    "#Number of data points for each feature  \n",
    "m = len(x)\n",
    "#Starting numbers for intercept and slope\n",
    "b0 = 1\n",
    "b1 = 1.2\n",
    "#Keeping track how error declines \n",
    "error_list =[]\n",
    "#Defininf a function do to the itterations\n",
    "def gradient(b0,b1):\n",
    " # Finding the gradients \n",
    "    db0 = -2*(np.sum(y- b0 - b1*x))/m\n",
    "    db1 = -2*(np.dot(x ,(y- b0 - b1*x)))/m\n",
    "  #updating slope and interface\n",
    "    b0 -= db0 * lr\n",
    "    b1 -= db1*lr \n",
    "    return b0, b1\n",
    "\n",
    "#Running the model\n",
    "for i in range(epochs):\n",
    "    error = np.sum(np.square(y-b0 - b1*x))/m\n",
    "    error_list.append(error)\n",
    "    b0 , b1 = gradient(b0,b1)\n",
    "\n",
    "print(\"Intercept=\", b0, \"Slope=\", b1, \"error =\", error)\n",
    "#Ploting the error to see how it declines\n",
    "plt.plot(error_list)"
   ]
  }
 ],
 "metadata": {
  "kernelspec": {
   "display_name": "Python 3 (ipykernel)",
   "language": "python",
   "name": "python3"
  },
  "language_info": {
   "codemirror_mode": {
    "name": "ipython",
    "version": 3
   },
   "file_extension": ".py",
   "mimetype": "text/x-python",
   "name": "python",
   "nbconvert_exporter": "python",
   "pygments_lexer": "ipython3",
   "version": "3.10.9"
  }
 },
 "nbformat": 4,
 "nbformat_minor": 5
}
