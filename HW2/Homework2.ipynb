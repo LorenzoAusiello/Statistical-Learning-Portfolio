{
 "cells": [
  {
   "cell_type": "markdown",
   "id": "3161f564",
   "metadata": {},
   "source": [
    "## Simple Linear Regression for the growth stock Tesla (TSLA)"
   ]
  },
  {
   "cell_type": "code",
   "execution_count": 26,
   "id": "e9413971",
   "metadata": {},
   "outputs": [],
   "source": [
    "#Importing the needed modules\n",
    "import numpy as np\n",
    "from numpy import array\n",
    "import statsmodels.api as sm\n",
    "import yfinance as yf\n",
    "import pandas as pd\n",
    "import matplotlib.pyplot as plt\n",
    "#Following ensure that graph is on the same page\n",
    "%matplotlib inline"
   ]
  },
  {
   "cell_type": "code",
   "execution_count": 27,
   "id": "4ac85019",
   "metadata": {
    "scrolled": false
   },
   "outputs": [
    {
     "name": "stdout",
     "output_type": "stream",
     "text": [
      "[*********************100%***********************]  1 of 1 completed\n"
     ]
    },
    {
     "name": "stderr",
     "output_type": "stream",
     "text": [
      "C:\\Users\\loaus\\AppData\\Local\\Temp\\ipykernel_14252\\1879317785.py:13: SettingWithCopyWarning: \n",
      "A value is trying to be set on a copy of a slice from a DataFrame.\n",
      "Try using .loc[row_indexer,col_indexer] = value instead\n",
      "\n",
      "See the caveats in the documentation: https://pandas.pydata.org/pandas-docs/stable/user_guide/indexing.html#returning-a-view-versus-a-copy\n",
      "  prices['Range']=prices['High']/prices['Low']\n",
      "C:\\Users\\loaus\\AppData\\Local\\Temp\\ipykernel_14252\\1879317785.py:16: SettingWithCopyWarning: \n",
      "A value is trying to be set on a copy of a slice from a DataFrame.\n",
      "Try using .loc[row_indexer,col_indexer] = value instead\n",
      "\n",
      "See the caveats in the documentation: https://pandas.pydata.org/pandas-docs/stable/user_guide/indexing.html#returning-a-view-versus-a-copy\n",
      "  prices['Range']=(prices['Range']-prices['Range'].mean())/prices['Range'].std()\n",
      "C:\\Users\\loaus\\AppData\\Local\\Temp\\ipykernel_14252\\1879317785.py:17: SettingWithCopyWarning: \n",
      "A value is trying to be set on a copy of a slice from a DataFrame.\n",
      "Try using .loc[row_indexer,col_indexer] = value instead\n",
      "\n",
      "See the caveats in the documentation: https://pandas.pydata.org/pandas-docs/stable/user_guide/indexing.html#returning-a-view-versus-a-copy\n",
      "  prices['Volume']=(prices['Volume']-prices['Volume'].mean())/prices['Volume'].std()\n"
     ]
    },
    {
     "data": {
      "text/html": [
       "<div>\n",
       "<style scoped>\n",
       "    .dataframe tbody tr th:only-of-type {\n",
       "        vertical-align: middle;\n",
       "    }\n",
       "\n",
       "    .dataframe tbody tr th {\n",
       "        vertical-align: top;\n",
       "    }\n",
       "\n",
       "    .dataframe thead th {\n",
       "        text-align: right;\n",
       "    }\n",
       "</style>\n",
       "<table border=\"1\" class=\"dataframe\">\n",
       "  <thead>\n",
       "    <tr style=\"text-align: right;\">\n",
       "      <th></th>\n",
       "      <th>High</th>\n",
       "      <th>Low</th>\n",
       "      <th>Volume</th>\n",
       "      <th>Range</th>\n",
       "    </tr>\n",
       "    <tr>\n",
       "      <th>Date</th>\n",
       "      <th></th>\n",
       "      <th></th>\n",
       "      <th></th>\n",
       "      <th></th>\n",
       "    </tr>\n",
       "  </thead>\n",
       "  <tbody>\n",
       "    <tr>\n",
       "      <th>2020-01-02</th>\n",
       "      <td>28.713333</td>\n",
       "      <td>28.114000</td>\n",
       "      <td>-0.997389</td>\n",
       "      <td>-1.101223</td>\n",
       "    </tr>\n",
       "    <tr>\n",
       "      <th>2020-01-03</th>\n",
       "      <td>30.266666</td>\n",
       "      <td>29.128000</td>\n",
       "      <td>0.077279</td>\n",
       "      <td>-0.686487</td>\n",
       "    </tr>\n",
       "    <tr>\n",
       "      <th>2020-01-06</th>\n",
       "      <td>30.104000</td>\n",
       "      <td>29.333332</td>\n",
       "      <td>-0.919080</td>\n",
       "      <td>-0.985607</td>\n",
       "    </tr>\n",
       "    <tr>\n",
       "      <th>2020-01-07</th>\n",
       "      <td>31.441999</td>\n",
       "      <td>30.224001</td>\n",
       "      <td>0.090780</td>\n",
       "      <td>-0.658317</td>\n",
       "    </tr>\n",
       "    <tr>\n",
       "      <th>2020-01-08</th>\n",
       "      <td>33.232666</td>\n",
       "      <td>31.215334</td>\n",
       "      <td>1.819106</td>\n",
       "      <td>-0.090664</td>\n",
       "    </tr>\n",
       "    <tr>\n",
       "      <th>...</th>\n",
       "      <td>...</td>\n",
       "      <td>...</td>\n",
       "      <td>...</td>\n",
       "      <td>...</td>\n",
       "    </tr>\n",
       "    <tr>\n",
       "      <th>2020-09-24</th>\n",
       "      <td>133.166672</td>\n",
       "      <td>117.099998</td>\n",
       "      <td>0.277153</td>\n",
       "      <td>1.602882</td>\n",
       "    </tr>\n",
       "    <tr>\n",
       "      <th>2020-09-25</th>\n",
       "      <td>136.243332</td>\n",
       "      <td>130.433334</td>\n",
       "      <td>-0.487891</td>\n",
       "      <td>-0.559270</td>\n",
       "    </tr>\n",
       "    <tr>\n",
       "      <th>2020-09-28</th>\n",
       "      <td>142.693329</td>\n",
       "      <td>138.516663</td>\n",
       "      <td>-0.943721</td>\n",
       "      <td>-0.895070</td>\n",
       "    </tr>\n",
       "    <tr>\n",
       "      <th>2020-09-29</th>\n",
       "      <td>142.833328</td>\n",
       "      <td>137.199997</td>\n",
       "      <td>-0.930697</td>\n",
       "      <td>-0.640578</td>\n",
       "    </tr>\n",
       "    <tr>\n",
       "      <th>2020-09-30</th>\n",
       "      <td>144.643326</td>\n",
       "      <td>140.156662</td>\n",
       "      <td>-0.984746</td>\n",
       "      <td>-0.851693</td>\n",
       "    </tr>\n",
       "  </tbody>\n",
       "</table>\n",
       "<p>189 rows × 4 columns</p>\n",
       "</div>"
      ],
      "text/plain": [
       "                  High         Low    Volume     Range\n",
       "Date                                                  \n",
       "2020-01-02   28.713333   28.114000 -0.997389 -1.101223\n",
       "2020-01-03   30.266666   29.128000  0.077279 -0.686487\n",
       "2020-01-06   30.104000   29.333332 -0.919080 -0.985607\n",
       "2020-01-07   31.441999   30.224001  0.090780 -0.658317\n",
       "2020-01-08   33.232666   31.215334  1.819106 -0.090664\n",
       "...                ...         ...       ...       ...\n",
       "2020-09-24  133.166672  117.099998  0.277153  1.602882\n",
       "2020-09-25  136.243332  130.433334 -0.487891 -0.559270\n",
       "2020-09-28  142.693329  138.516663 -0.943721 -0.895070\n",
       "2020-09-29  142.833328  137.199997 -0.930697 -0.640578\n",
       "2020-09-30  144.643326  140.156662 -0.984746 -0.851693\n",
       "\n",
       "[189 rows x 4 columns]"
      ]
     },
     "execution_count": 27,
     "metadata": {},
     "output_type": "execute_result"
    }
   ],
   "source": [
    "#Consider daily High, Low, Volume of the growth stock Tesla (TSLA), from January 2nd 2020 until October 1st\n",
    "\n",
    "# Download historical data\n",
    "symbols = 'TSLA'\n",
    "start_date = '2020-01-02'\n",
    "end_date = '2020-10-01'\n",
    "data = yf.download(symbols, start=start_date, end=end_date, group_by='ticker')\n",
    "\n",
    "# Extract High, Low, Volume\n",
    "prices=data[['High','Low','Volume']]\n",
    "\n",
    "#Let Range = High/Low.\n",
    "prices['Range']=prices['High']/prices['Low']\n",
    "\n",
    "#Normalize the Volume and the range\n",
    "prices['Range']=(prices['Range']-prices['Range'].mean())/prices['Range'].std()\n",
    "prices['Volume']=(prices['Volume']-prices['Volume'].mean())/prices['Volume'].std()\n",
    "prices"
   ]
  },
  {
   "cell_type": "code",
   "execution_count": 28,
   "id": "90ccf887",
   "metadata": {},
   "outputs": [
    {
     "name": "stdout",
     "output_type": "stream",
     "text": [
      "Alpha and Beta for Range:\n",
      "Alpha (α): 2.541103806559933e-15\n",
      "Beta (β): 0.7108631516696489\n"
     ]
    },
    {
     "data": {
      "image/png": "[encoded data removed]",
      "text/plain": [
       "<Figure size 640x480 with 1 Axes>"
      ]
     },
     "metadata": {},
     "output_type": "display_data"
    }
   ],
   "source": [
    "#Regress Range on Volume\n",
    "x = prices.Volume\n",
    "y = prices.Range\n",
    "\n",
    "model1 = np.polyfit(x, y, 1)\n",
    "alpha=model1[1]\n",
    "beta=model1[0]\n",
    "\n",
    "# Print alpha and beta for Range\n",
    "print(\"Alpha and Beta for Range:\")\n",
    "print(\"Alpha (α):\", alpha)\n",
    "print(\"Beta (β):\", beta)\n",
    "#Scatter plot of data\n",
    "plt.scatter(prices.Volume,prices.Range)\n",
    "plt.xlabel(\"Volume\")\n",
    "plt.ylabel(\"Range\")\n",
    "plt.title('Range vs Volume')\n",
    "plt.show()"
   ]
  },
  {
   "cell_type": "code",
   "execution_count": 29,
   "id": "7a88f901",
   "metadata": {},
   "outputs": [
    {
     "name": "stdout",
     "output_type": "stream",
     "text": [
      "F-statistic: 191.02706211206163\n",
      "P-value: 2.1391005351896686e-30\n",
      "R-squared (Explained Variability): 0.5053264204017064\n",
      "Percentage of Variability Explained: 50.53%\n"
     ]
    }
   ],
   "source": [
    "#Does volume impact range?\n",
    "import statsmodels.api as sm\n",
    "import statsmodels.formula.api as smf\n",
    "#F statistic\n",
    "model = smf.ols('Range ~ Volume', data=prices).fit()\n",
    "f_statistic = model.fvalue\n",
    "p_value = model.f_pvalue\n",
    "\n",
    "print(\"F-statistic:\", f_statistic)\n",
    "print(\"P-value:\", p_value)\n",
    "\n",
    "# Percentage of variability in the range that can be explained by volume\n",
    "#R-Squared\n",
    "estimated=alpha+beta*x\n",
    "residuals=y-estimated\n",
    "r_squared=1-residuals.var()/y.var()\n",
    "print(\"R-squared (Explained Variability):\", r_squared)\n",
    "percentage_variability_explained = (r_squared) * 100\n",
    "print(f\"Percentage of Variability Explained: {percentage_variability_explained:.2f}%\")"
   ]
  },
  {
   "cell_type": "code",
   "execution_count": 30,
   "id": "17134d66",
   "metadata": {},
   "outputs": [
    {
     "name": "stdout",
     "output_type": "stream",
     "text": [
      "                            OLS Regression Results                            \n",
      "==============================================================================\n",
      "Dep. Variable:                  Range   R-squared:                       0.505\n",
      "Model:                            OLS   Adj. R-squared:                  0.503\n",
      "Method:                 Least Squares   F-statistic:                     191.0\n",
      "Date:                Thu, 19 Oct 2023   Prob (F-statistic):           2.14e-30\n",
      "Time:                        02:55:34   Log-Likelihood:                -201.16\n",
      "No. Observations:                 189   AIC:                             406.3\n",
      "Df Residuals:                     187   BIC:                             412.8\n",
      "Df Model:                           1                                         \n",
      "Covariance Type:            nonrobust                                         \n",
      "==============================================================================\n",
      "                 coef    std err          t      P>|t|      [0.025      0.975]\n",
      "------------------------------------------------------------------------------\n",
      "Intercept   2.623e-15      0.051   5.11e-14      1.000      -0.101       0.101\n",
      "Volume         0.7109      0.051     13.821      0.000       0.609       0.812\n",
      "==============================================================================\n",
      "Omnibus:                       52.897   Durbin-Watson:                   1.222\n",
      "Prob(Omnibus):                  0.000   Jarque-Bera (JB):              165.692\n",
      "Skew:                           1.113   Prob(JB):                     1.05e-36\n",
      "Kurtosis:                       7.011   Cond. No.                         1.00\n",
      "==============================================================================\n",
      "\n",
      "Notes:\n",
      "[1] Standard Errors assume that the covariance matrix of the errors is correctly specified.\n"
     ]
    }
   ],
   "source": [
    "print(model.summary())"
   ]
  },
  {
   "cell_type": "markdown",
   "id": "bebb0153",
   "metadata": {},
   "source": [
    "The simple linear regression analysis for Tesla shows that volume has a significant impact on the \"Range\" (High/Low) prices. The low p-value (2.14e-30) and a substantial F-statistic (191.03) indicate a strong relationship. Approximately 50.53% of the variability in the \"Range\" can be explained by volume, as represented by the R-squared value. The calculated Alpha (α) and Beta (β) coefficients (2.54e-15 and 0.71, respectively) indicate that for each unit increase in volume, the range tends to increase by 0.71 units. In conclusion, volume significantly impacts the range of Tesla's stock prices, and about half of the variability in range is explained by changes in volume."
   ]
  },
  {
   "cell_type": "markdown",
   "id": "072a854c",
   "metadata": {},
   "source": [
    "## Simple Linear Regression for the defensive stock Pfizer (PFE)"
   ]
  },
  {
   "cell_type": "code",
   "execution_count": 31,
   "id": "a7e16df8",
   "metadata": {},
   "outputs": [
    {
     "name": "stdout",
     "output_type": "stream",
     "text": [
      "[*********************100%***********************]  1 of 1 completed\n"
     ]
    },
    {
     "name": "stderr",
     "output_type": "stream",
     "text": [
      "C:\\Users\\loaus\\AppData\\Local\\Temp\\ipykernel_14252\\1604299999.py:13: SettingWithCopyWarning: \n",
      "A value is trying to be set on a copy of a slice from a DataFrame.\n",
      "Try using .loc[row_indexer,col_indexer] = value instead\n",
      "\n",
      "See the caveats in the documentation: https://pandas.pydata.org/pandas-docs/stable/user_guide/indexing.html#returning-a-view-versus-a-copy\n",
      "  prices['Range']=prices['High']/prices['Low']\n",
      "C:\\Users\\loaus\\AppData\\Local\\Temp\\ipykernel_14252\\1604299999.py:16: SettingWithCopyWarning: \n",
      "A value is trying to be set on a copy of a slice from a DataFrame.\n",
      "Try using .loc[row_indexer,col_indexer] = value instead\n",
      "\n",
      "See the caveats in the documentation: https://pandas.pydata.org/pandas-docs/stable/user_guide/indexing.html#returning-a-view-versus-a-copy\n",
      "  prices['Range']=(prices['Range']-prices['Range'].mean())/prices['Range'].std()\n",
      "C:\\Users\\loaus\\AppData\\Local\\Temp\\ipykernel_14252\\1604299999.py:17: SettingWithCopyWarning: \n",
      "A value is trying to be set on a copy of a slice from a DataFrame.\n",
      "Try using .loc[row_indexer,col_indexer] = value instead\n",
      "\n",
      "See the caveats in the documentation: https://pandas.pydata.org/pandas-docs/stable/user_guide/indexing.html#returning-a-view-versus-a-copy\n",
      "  prices['Volume']=(prices['Volume']-prices['Volume'].mean())/prices['Volume'].std()\n"
     ]
    },
    {
     "data": {
      "text/html": [
       "<div>\n",
       "<style scoped>\n",
       "    .dataframe tbody tr th:only-of-type {\n",
       "        vertical-align: middle;\n",
       "    }\n",
       "\n",
       "    .dataframe tbody tr th {\n",
       "        vertical-align: top;\n",
       "    }\n",
       "\n",
       "    .dataframe thead th {\n",
       "        text-align: right;\n",
       "    }\n",
       "</style>\n",
       "<table border=\"1\" class=\"dataframe\">\n",
       "  <thead>\n",
       "    <tr style=\"text-align: right;\">\n",
       "      <th></th>\n",
       "      <th>High</th>\n",
       "      <th>Low</th>\n",
       "      <th>Volume</th>\n",
       "      <th>Range</th>\n",
       "    </tr>\n",
       "    <tr>\n",
       "      <th>Date</th>\n",
       "      <th></th>\n",
       "      <th></th>\n",
       "      <th></th>\n",
       "      <th></th>\n",
       "    </tr>\n",
       "  </thead>\n",
       "  <tbody>\n",
       "    <tr>\n",
       "      <th>2020-01-02</th>\n",
       "      <td>37.333965</td>\n",
       "      <td>36.888046</td>\n",
       "      <td>-1.026104</td>\n",
       "      <td>-0.800423</td>\n",
       "    </tr>\n",
       "    <tr>\n",
       "      <th>2020-01-03</th>\n",
       "      <td>37.229603</td>\n",
       "      <td>36.688805</td>\n",
       "      <td>-1.142968</td>\n",
       "      <td>-0.634800</td>\n",
       "    </tr>\n",
       "    <tr>\n",
       "      <th>2020-01-06</th>\n",
       "      <td>37.001900</td>\n",
       "      <td>36.717270</td>\n",
       "      <td>-1.080607</td>\n",
       "      <td>-1.071279</td>\n",
       "    </tr>\n",
       "    <tr>\n",
       "      <th>2020-01-07</th>\n",
       "      <td>37.125237</td>\n",
       "      <td>36.698292</td>\n",
       "      <td>-0.762146</td>\n",
       "      <td>-0.828813</td>\n",
       "    </tr>\n",
       "    <tr>\n",
       "      <th>2020-01-08</th>\n",
       "      <td>37.210625</td>\n",
       "      <td>36.764706</td>\n",
       "      <td>-1.034224</td>\n",
       "      <td>-0.797890</td>\n",
       "    </tr>\n",
       "    <tr>\n",
       "      <th>...</th>\n",
       "      <td>...</td>\n",
       "      <td>...</td>\n",
       "      <td>...</td>\n",
       "      <td>...</td>\n",
       "    </tr>\n",
       "    <tr>\n",
       "      <th>2020-09-24</th>\n",
       "      <td>34.193546</td>\n",
       "      <td>33.719166</td>\n",
       "      <td>-0.706930</td>\n",
       "      <td>-0.676746</td>\n",
       "    </tr>\n",
       "    <tr>\n",
       "      <th>2020-09-25</th>\n",
       "      <td>34.297913</td>\n",
       "      <td>33.700191</td>\n",
       "      <td>-1.183894</td>\n",
       "      <td>-0.447653</td>\n",
       "    </tr>\n",
       "    <tr>\n",
       "      <th>2020-09-28</th>\n",
       "      <td>34.705883</td>\n",
       "      <td>34.307400</td>\n",
       "      <td>-1.134051</td>\n",
       "      <td>-0.829989</td>\n",
       "    </tr>\n",
       "    <tr>\n",
       "      <th>2020-09-29</th>\n",
       "      <td>34.667931</td>\n",
       "      <td>34.184059</td>\n",
       "      <td>-1.246549</td>\n",
       "      <td>-0.671354</td>\n",
       "    </tr>\n",
       "    <tr>\n",
       "      <th>2020-09-30</th>\n",
       "      <td>35.066414</td>\n",
       "      <td>34.392788</td>\n",
       "      <td>-0.576984</td>\n",
       "      <td>-0.332114</td>\n",
       "    </tr>\n",
       "  </tbody>\n",
       "</table>\n",
       "<p>189 rows × 4 columns</p>\n",
       "</div>"
      ],
      "text/plain": [
       "                 High        Low    Volume     Range\n",
       "Date                                                \n",
       "2020-01-02  37.333965  36.888046 -1.026104 -0.800423\n",
       "2020-01-03  37.229603  36.688805 -1.142968 -0.634800\n",
       "2020-01-06  37.001900  36.717270 -1.080607 -1.071279\n",
       "2020-01-07  37.125237  36.698292 -0.762146 -0.828813\n",
       "2020-01-08  37.210625  36.764706 -1.034224 -0.797890\n",
       "...               ...        ...       ...       ...\n",
       "2020-09-24  34.193546  33.719166 -0.706930 -0.676746\n",
       "2020-09-25  34.297913  33.700191 -1.183894 -0.447653\n",
       "2020-09-28  34.705883  34.307400 -1.134051 -0.829989\n",
       "2020-09-29  34.667931  34.184059 -1.246549 -0.671354\n",
       "2020-09-30  35.066414  34.392788 -0.576984 -0.332114\n",
       "\n",
       "[189 rows x 4 columns]"
      ]
     },
     "execution_count": 31,
     "metadata": {},
     "output_type": "execute_result"
    }
   ],
   "source": [
    "# Define the stock symbols and date range\n",
    "symbols = 'PFE'\n",
    "start_date = '2020-01-02'\n",
    "end_date = '2020-10-01'\n",
    "\n",
    "# Download historical data\n",
    "data = yf.download(symbols, start=start_date, end=end_date, group_by='ticker')\n",
    "\n",
    "# Extract High, Low, Volume\n",
    "prices=data[['High','Low','Volume']]\n",
    "\n",
    "#Let Range = High/Low.\n",
    "prices['Range']=prices['High']/prices['Low']\n",
    "\n",
    "#Normalize the Volume and the range\n",
    "prices['Range']=(prices['Range']-prices['Range'].mean())/prices['Range'].std()\n",
    "prices['Volume']=(prices['Volume']-prices['Volume'].mean())/prices['Volume'].std()\n",
    "prices"
   ]
  },
  {
   "cell_type": "code",
   "execution_count": 32,
   "id": "87bbf9f8",
   "metadata": {},
   "outputs": [
    {
     "name": "stdout",
     "output_type": "stream",
     "text": [
      "Alpha and Beta for Range:\n",
      "Alpha (α): -5.919545234170431e-15\n",
      "Beta (β): 0.6553421110569803\n"
     ]
    },
    {
     "data": {
      "image/png": "[encoded data removed]",
      "text/plain": [
       "<Figure size 640x480 with 1 Axes>"
      ]
     },
     "metadata": {},
     "output_type": "display_data"
    }
   ],
   "source": [
    "#Regress Range on Volume\n",
    "x = prices.Volume\n",
    "y = prices.Range\n",
    "\n",
    "model1 = np.polyfit(x, y, 1)\n",
    "alpha=model1[1]\n",
    "beta=model1[0]\n",
    "\n",
    "# Print alpha and beta for Range\n",
    "print(\"Alpha and Beta for Range:\")\n",
    "print(\"Alpha (α):\", alpha)\n",
    "print(\"Beta (β):\", beta)\n",
    "#Scatter plot of data\n",
    "plt.scatter(prices.Volume,prices.Range)\n",
    "plt.xlabel(\"Volume\")\n",
    "plt.ylabel(\"Range\")\n",
    "plt.title('Range vs Volume')\n",
    "plt.show()\n"
   ]
  },
  {
   "cell_type": "code",
   "execution_count": 33,
   "id": "8be0209e",
   "metadata": {},
   "outputs": [
    {
     "name": "stdout",
     "output_type": "stream",
     "text": [
      "F-statistic: 140.76729690677394\n",
      "P-value: 1.4380502756787761e-24\n",
      "R-squared (Explained Variability): 0.4294732825246199\n",
      "Percentage of Variability Explained: 42.95%\n"
     ]
    }
   ],
   "source": [
    "#Does volume impact range?\n",
    "import statsmodels.api as sm\n",
    "import statsmodels.formula.api as smf\n",
    "#F statistic\n",
    "model = smf.ols('Range ~ Volume', data=prices).fit()\n",
    "f_statistic = model.fvalue\n",
    "p_value = model.f_pvalue\n",
    "\n",
    "print(\"F-statistic:\", f_statistic)\n",
    "print(\"P-value:\", p_value)\n",
    "\n",
    "# Percentage of variability in the range that can be explained by volume\n",
    "#R-Squared\n",
    "estimated=alpha+beta*x\n",
    "residuals=y-estimated\n",
    "r_squared=1-residuals.var()/y.var()\n",
    "print(\"R-squared (Explained Variability):\", r_squared)\n",
    "percentage_variability_explained = (r_squared) * 100\n",
    "print(f\"Percentage of Variability Explained: {percentage_variability_explained:.2f}%\")"
   ]
  },
  {
   "cell_type": "code",
   "execution_count": 34,
   "id": "e89154e2",
   "metadata": {},
   "outputs": [
    {
     "name": "stdout",
     "output_type": "stream",
     "text": [
      "                            OLS Regression Results                            \n",
      "==============================================================================\n",
      "Dep. Variable:                  Range   R-squared:                       0.429\n",
      "Model:                            OLS   Adj. R-squared:                  0.426\n",
      "Method:                 Least Squares   F-statistic:                     140.8\n",
      "Date:                Thu, 19 Oct 2023   Prob (F-statistic):           1.44e-24\n",
      "Time:                        02:55:40   Log-Likelihood:                -214.65\n",
      "No. Observations:                 189   AIC:                             433.3\n",
      "Df Residuals:                     187   BIC:                             439.8\n",
      "Df Model:                           1                                         \n",
      "Covariance Type:            nonrobust                                         \n",
      "==============================================================================\n",
      "                 coef    std err          t      P>|t|      [0.025      0.975]\n",
      "------------------------------------------------------------------------------\n",
      "Intercept  -5.933e-15      0.055  -1.08e-13      1.000      -0.109       0.109\n",
      "Volume         0.6553      0.055     11.865      0.000       0.546       0.764\n",
      "==============================================================================\n",
      "Omnibus:                       36.165   Durbin-Watson:                   0.883\n",
      "Prob(Omnibus):                  0.000   Jarque-Bera (JB):               86.337\n",
      "Skew:                           0.835   Prob(JB):                     1.79e-19\n",
      "Kurtosis:                       5.860   Cond. No.                         1.00\n",
      "==============================================================================\n",
      "\n",
      "Notes:\n",
      "[1] Standard Errors assume that the covariance matrix of the errors is correctly specified.\n"
     ]
    }
   ],
   "source": [
    "print(model.summary())"
   ]
  },
  {
   "cell_type": "markdown",
   "id": "bf6b0ebb",
   "metadata": {},
   "source": [
    "The simple linear regression for Pfizer demonstrates a significant relationship between volume and the \"Range\" (High/Low) prices. The low p-value (1.44e-24) and a substantial F-statistic (140.77) indicate strong statistical significance, suggesting that changes in trading volume impact the range. About 42.95% of the variability in the \"Range\" can be explained by volume, as indicated by the R-squared value. The Alpha (α) and Beta (β) coefficients (-5.92e-15 and 0.655, respectively) show that, on average, for each unit increase in volume, the range tends to increase by 0.655 units. In summary, volume significantly affects Pfizer's stock price range, explaining nearly 43% of the variability."
   ]
  }
 ],
 "metadata": {
  "kernelspec": {
   "display_name": "Python 3 (ipykernel)",
   "language": "python",
   "name": "python3"
  },
  "language_info": {
   "codemirror_mode": {
    "name": "ipython",
    "version": 3
   },
   "file_extension": ".py",
   "mimetype": "text/x-python",
   "name": "python",
   "nbconvert_exporter": "python",
   "pygments_lexer": "ipython3",
   "version": "3.10.9"
  }
 },
 "nbformat": 4,
 "nbformat_minor": 5
}
