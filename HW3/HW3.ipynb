{
 "cells": [
  {
   "cell_type": "code",
   "execution_count": 1,
   "id": "6c7a9cc9",
   "metadata": {},
   "outputs": [],
   "source": [
    "#Importing the needed modules\n",
    "import numpy as np\n",
    "from numpy import array\n",
    "import statsmodels.api as sm\n",
    "import yfinance as yf\n",
    "import pandas as pd\n",
    "import matplotlib.pyplot as plt\n",
    "#Following ensure that graph is on the same page\n",
    "%matplotlib inline"
   ]
  },
  {
   "cell_type": "markdown",
   "id": "7a11663c",
   "metadata": {},
   "source": [
    "## Simple linear regressions"
   ]
  },
  {
   "cell_type": "code",
   "execution_count": 18,
   "id": "5274ee4d",
   "metadata": {},
   "outputs": [
    {
     "name": "stdout",
     "output_type": "stream",
     "text": [
      "[*********************100%***********************]  4 of 4 completed\n"
     ]
    },
    {
     "data": {
      "text/html": [
       "<div>\n",
       "<style scoped>\n",
       "    .dataframe tbody tr th:only-of-type {\n",
       "        vertical-align: middle;\n",
       "    }\n",
       "\n",
       "    .dataframe tbody tr th {\n",
       "        vertical-align: top;\n",
       "    }\n",
       "\n",
       "    .dataframe thead tr th {\n",
       "        text-align: left;\n",
       "    }\n",
       "\n",
       "    .dataframe thead tr:last-of-type th {\n",
       "        text-align: right;\n",
       "    }\n",
       "</style>\n",
       "<table border=\"1\" class=\"dataframe\">\n",
       "  <thead>\n",
       "    <tr>\n",
       "      <th></th>\n",
       "      <th>META</th>\n",
       "      <th>SPY</th>\n",
       "      <th>VUG</th>\n",
       "      <th>VBR</th>\n",
       "    </tr>\n",
       "    <tr>\n",
       "      <th></th>\n",
       "      <th>Adj Close</th>\n",
       "      <th>Adj Close</th>\n",
       "      <th>Adj Close</th>\n",
       "      <th>Adj Close</th>\n",
       "    </tr>\n",
       "    <tr>\n",
       "      <th>Date</th>\n",
       "      <th></th>\n",
       "      <th></th>\n",
       "      <th></th>\n",
       "      <th></th>\n",
       "    </tr>\n",
       "  </thead>\n",
       "  <tbody>\n",
       "    <tr>\n",
       "      <th>2018-01-31</th>\n",
       "      <td>186.889999</td>\n",
       "      <td>255.980530</td>\n",
       "      <td>143.279083</td>\n",
       "      <td>120.231339</td>\n",
       "    </tr>\n",
       "    <tr>\n",
       "      <th>2018-02-28</th>\n",
       "      <td>178.320007</td>\n",
       "      <td>246.672943</td>\n",
       "      <td>139.092758</td>\n",
       "      <td>114.536919</td>\n",
       "    </tr>\n",
       "    <tr>\n",
       "      <th>2018-03-31</th>\n",
       "      <td>159.789993</td>\n",
       "      <td>239.911514</td>\n",
       "      <td>135.628326</td>\n",
       "      <td>115.464127</td>\n",
       "    </tr>\n",
       "    <tr>\n",
       "      <th>2018-04-30</th>\n",
       "      <td>172.000000</td>\n",
       "      <td>241.151443</td>\n",
       "      <td>136.001114</td>\n",
       "      <td>115.928062</td>\n",
       "    </tr>\n",
       "    <tr>\n",
       "      <th>2018-05-31</th>\n",
       "      <td>191.779999</td>\n",
       "      <td>247.013611</td>\n",
       "      <td>141.966217</td>\n",
       "      <td>121.165062</td>\n",
       "    </tr>\n",
       "  </tbody>\n",
       "</table>\n",
       "</div>"
      ],
      "text/plain": [
       "                  META         SPY         VUG         VBR\n",
       "             Adj Close   Adj Close   Adj Close   Adj Close\n",
       "Date                                                      \n",
       "2018-01-31  186.889999  255.980530  143.279083  120.231339\n",
       "2018-02-28  178.320007  246.672943  139.092758  114.536919\n",
       "2018-03-31  159.789993  239.911514  135.628326  115.464127\n",
       "2018-04-30  172.000000  241.151443  136.001114  115.928062\n",
       "2018-05-31  191.779999  247.013611  141.966217  121.165062"
      ]
     },
     "execution_count": 18,
     "metadata": {},
     "output_type": "execute_result"
    }
   ],
   "source": [
    "# Define the stock symbols and date range\n",
    "symbols = ['META', 'SPY', 'VUG','VBR']\n",
    "start_date = '2018-01-01'\n",
    "end_date = '2023-01-01'\n",
    "\n",
    "# Download historical data\n",
    "data = yf.download(symbols, start=start_date, end=end_date, group_by='ticker')\n",
    "\n",
    "# Extract the adjusted closing prices\n",
    "closing_prices=data[[('META','Adj Close'),('SPY','Adj Close'),('VUG','Adj Close'),('VBR','Adj Close')]]\n",
    "\n",
    "# Resample the data to get monthly closing prices\n",
    "monthly_closing_prices = closing_prices.resample('M').ffill()\n",
    "monthly_closing_prices.head()"
   ]
  },
  {
   "cell_type": "code",
   "execution_count": 19,
   "id": "0b9a4725",
   "metadata": {},
   "outputs": [
    {
     "data": {
      "text/html": [
       "<div>\n",
       "<style scoped>\n",
       "    .dataframe tbody tr th:only-of-type {\n",
       "        vertical-align: middle;\n",
       "    }\n",
       "\n",
       "    .dataframe tbody tr th {\n",
       "        vertical-align: top;\n",
       "    }\n",
       "\n",
       "    .dataframe thead th {\n",
       "        text-align: right;\n",
       "    }\n",
       "</style>\n",
       "<table border=\"1\" class=\"dataframe\">\n",
       "  <thead>\n",
       "    <tr style=\"text-align: right;\">\n",
       "      <th></th>\n",
       "      <th>META</th>\n",
       "      <th>SPY</th>\n",
       "      <th>VUG</th>\n",
       "      <th>VBR</th>\n",
       "    </tr>\n",
       "    <tr>\n",
       "      <th>Date</th>\n",
       "      <th></th>\n",
       "      <th></th>\n",
       "      <th></th>\n",
       "      <th></th>\n",
       "    </tr>\n",
       "  </thead>\n",
       "  <tbody>\n",
       "    <tr>\n",
       "      <th>2018-02-28</th>\n",
       "      <td>-0.045856</td>\n",
       "      <td>-0.036361</td>\n",
       "      <td>-0.029218</td>\n",
       "      <td>-0.047362</td>\n",
       "    </tr>\n",
       "    <tr>\n",
       "      <th>2018-03-31</th>\n",
       "      <td>-0.103914</td>\n",
       "      <td>-0.027411</td>\n",
       "      <td>-0.024907</td>\n",
       "      <td>0.008095</td>\n",
       "    </tr>\n",
       "    <tr>\n",
       "      <th>2018-04-30</th>\n",
       "      <td>0.076413</td>\n",
       "      <td>0.005168</td>\n",
       "      <td>0.002749</td>\n",
       "      <td>0.004018</td>\n",
       "    </tr>\n",
       "    <tr>\n",
       "      <th>2018-05-31</th>\n",
       "      <td>0.115000</td>\n",
       "      <td>0.024309</td>\n",
       "      <td>0.043861</td>\n",
       "      <td>0.045175</td>\n",
       "    </tr>\n",
       "    <tr>\n",
       "      <th>2018-06-30</th>\n",
       "      <td>0.013244</td>\n",
       "      <td>0.005751</td>\n",
       "      <td>0.011528</td>\n",
       "      <td>0.003564</td>\n",
       "    </tr>\n",
       "  </tbody>\n",
       "</table>\n",
       "</div>"
      ],
      "text/plain": [
       "                META       SPY       VUG       VBR\n",
       "Date                                              \n",
       "2018-02-28 -0.045856 -0.036361 -0.029218 -0.047362\n",
       "2018-03-31 -0.103914 -0.027411 -0.024907  0.008095\n",
       "2018-04-30  0.076413  0.005168  0.002749  0.004018\n",
       "2018-05-31  0.115000  0.024309  0.043861  0.045175\n",
       "2018-06-30  0.013244  0.005751  0.011528  0.003564"
      ]
     },
     "execution_count": 19,
     "metadata": {},
     "output_type": "execute_result"
    }
   ],
   "source": [
    "# Calculate monthly returns\n",
    "returns = pd.DataFrame()\n",
    "returns['META'] = monthly_closing_prices['META'].pct_change().dropna()\n",
    "returns['SPY'] = monthly_closing_prices['SPY'].pct_change().dropna()\n",
    "returns['VUG'] = monthly_closing_prices['VUG'].pct_change().dropna()\n",
    "returns['VBR'] = monthly_closing_prices['VBR'].pct_change().dropna()\n",
    "returns.head()"
   ]
  },
  {
   "cell_type": "code",
   "execution_count": 20,
   "id": "e078c01e",
   "metadata": {},
   "outputs": [],
   "source": [
    "#Extracting META, VUG, VBR and S&P 500 data\n",
    "x = returns.SPY\n",
    "y = returns.META\n",
    "z = returns.VUG\n",
    "q = returns.VBR\n",
    "\n",
    "#Perform linear regression for META on SPY\n",
    "model1 = np.polyfit(x, y, 1)\n",
    "\n",
    "# Perform linear regression for META on VUG\n",
    "model2 = np.polyfit(z, y, 1)\n",
    "\n",
    "# Perform linear regression for META on VBR\n",
    "model3 = np.polyfit(q, y, 1)"
   ]
  },
  {
   "cell_type": "code",
   "execution_count": 21,
   "id": "925dcbe7",
   "metadata": {},
   "outputs": [
    {
     "name": "stdout",
     "output_type": "stream",
     "text": [
      "Alpha and Beta for META:\n",
      "Alpha (α): -0.010395592649380756\n",
      "Beta (β): 1.1712239005300027\n"
     ]
    },
    {
     "data": {
      "image/png": "[encoded data removed]",
      "text/plain": [
       "<Figure size 640x480 with 1 Axes>"
      ]
     },
     "metadata": {},
     "output_type": "display_data"
    }
   ],
   "source": [
    "# Print alpha and beta for META on SPY\n",
    "alpha = model1[1]\n",
    "beta = model1[0]\n",
    "\n",
    "print(\"Alpha and Beta for META:\")\n",
    "print(\"Alpha (α):\", alpha)\n",
    "print(\"Beta (β):\", beta)\n",
    "#Scatter plot of data\n",
    "plt.scatter(returns.SPY,returns.META)\n",
    "plt.xlabel(\"SPY\")\n",
    "plt.ylabel(\"META\")\n",
    "plt.title('META vs SPY')\n",
    "plt.show()"
   ]
  },
  {
   "cell_type": "code",
   "execution_count": 22,
   "id": "fb2ec3f5",
   "metadata": {},
   "outputs": [
    {
     "name": "stdout",
     "output_type": "stream",
     "text": [
      "F-statistic: 26.07253482393458\n",
      "P-value: 3.951591933373894e-06\n",
      "R-squared (Explained Variability): 0.31385264551266157\n",
      "Percentage of Variability Explained: 31.39%\n",
      "                            OLS Regression Results                            \n",
      "==============================================================================\n",
      "Dep. Variable:                   META   R-squared:                       0.314\n",
      "Model:                            OLS   Adj. R-squared:                  0.302\n",
      "Method:                 Least Squares   F-statistic:                     26.07\n",
      "Date:                Sat, 28 Oct 2023   Prob (F-statistic):           3.95e-06\n",
      "Time:                        15:57:08   Log-Likelihood:                 56.696\n",
      "No. Observations:                  59   AIC:                            -109.4\n",
      "Df Residuals:                      57   BIC:                            -105.2\n",
      "Df Model:                           1                                         \n",
      "Covariance Type:            nonrobust                                         \n",
      "==============================================================================\n",
      "                 coef    std err          t      P>|t|      [0.025      0.975]\n",
      "------------------------------------------------------------------------------\n",
      "Intercept     -0.0104      0.012     -0.838      0.405      -0.035       0.014\n",
      "SPY            1.1712      0.229      5.106      0.000       0.712       1.631\n",
      "==============================================================================\n",
      "Omnibus:                       31.511   Durbin-Watson:                   2.170\n",
      "Prob(Omnibus):                  0.000   Jarque-Bera (JB):               93.510\n",
      "Skew:                          -1.479   Prob(JB):                     4.95e-21\n",
      "Kurtosis:                       8.412   Cond. No.                         18.7\n",
      "==============================================================================\n",
      "\n",
      "Notes:\n",
      "[1] Standard Errors assume that the covariance matrix of the errors is correctly specified.\n"
     ]
    }
   ],
   "source": [
    "import statsmodels.api as sm\n",
    "import statsmodels.formula.api as smf\n",
    "#F statistic\n",
    "model = smf.ols('META ~ SPY', data=returns).fit()\n",
    "f_statistic = model.fvalue\n",
    "p_value = model.f_pvalue\n",
    "\n",
    "print(\"F-statistic:\", f_statistic)\n",
    "print(\"P-value:\", p_value)\n",
    "\n",
    "# Percentage of variability in the range that can be explained by volume\n",
    "#R-Squared\n",
    "estimated=alpha+beta*x\n",
    "residuals=y-estimated\n",
    "r_squared=1-residuals.var()/y.var()\n",
    "print(\"R-squared (Explained Variability):\", r_squared)\n",
    "percentage_variability_explained = (r_squared) * 100\n",
    "print(f\"Percentage of Variability Explained: {percentage_variability_explained:.2f}%\")\n",
    "print(model.summary())"
   ]
  },
  {
   "cell_type": "code",
   "execution_count": 23,
   "id": "3536e7fe",
   "metadata": {},
   "outputs": [
    {
     "name": "stdout",
     "output_type": "stream",
     "text": [
      "\n",
      "Alpha and Beta for META:\n",
      "Alpha (α): -0.010389699867334413\n",
      "Beta (β): 1.1061844322840635\n"
     ]
    },
    {
     "data": {
      "image/png": "[encoded data removed]",
      "text/plain": [
       "<Figure size 640x480 with 1 Axes>"
      ]
     },
     "metadata": {},
     "output_type": "display_data"
    }
   ],
   "source": [
    "# Print alpha and beta for META on VUG\n",
    "alpha = model2[1]\n",
    "beta = model2[0]\n",
    "\n",
    "print(\"\\nAlpha and Beta for META:\")\n",
    "print(\"Alpha (α):\", alpha)\n",
    "print(\"Beta (β):\", beta)\n",
    "#Scatter plot of data\n",
    "plt.scatter(returns.VUG,returns.META)\n",
    "plt.xlabel(\"VUG\")\n",
    "plt.ylabel(\"META\")\n",
    "plt.title('META vs VUG')\n",
    "plt.show()"
   ]
  },
  {
   "cell_type": "code",
   "execution_count": 24,
   "id": "6764f543",
   "metadata": {},
   "outputs": [
    {
     "name": "stdout",
     "output_type": "stream",
     "text": [
      "F-statistic: 32.89849330891262\n",
      "P-value: 3.8807812769828946e-07\n",
      "R-squared (Explained Variability): 0.36595155378039057\n",
      "Percentage of Variability Explained: 36.60%\n",
      "                            OLS Regression Results                            \n",
      "==============================================================================\n",
      "Dep. Variable:                   META   R-squared:                       0.366\n",
      "Model:                            OLS   Adj. R-squared:                  0.355\n",
      "Method:                 Least Squares   F-statistic:                     32.90\n",
      "Date:                Sat, 28 Oct 2023   Prob (F-statistic):           3.88e-07\n",
      "Time:                        15:57:09   Log-Likelihood:                 59.025\n",
      "No. Observations:                  59   AIC:                            -114.1\n",
      "Df Residuals:                      57   BIC:                            -109.9\n",
      "Df Model:                           1                                         \n",
      "Covariance Type:            nonrobust                                         \n",
      "==============================================================================\n",
      "                 coef    std err          t      P>|t|      [0.025      0.975]\n",
      "------------------------------------------------------------------------------\n",
      "Intercept     -0.0104      0.012     -0.873      0.386      -0.034       0.013\n",
      "VUG            1.1062      0.193      5.736      0.000       0.720       1.492\n",
      "==============================================================================\n",
      "Omnibus:                       21.503   Durbin-Watson:                   2.226\n",
      "Prob(Omnibus):                  0.000   Jarque-Bera (JB):               48.125\n",
      "Skew:                          -1.051   Prob(JB):                     3.55e-11\n",
      "Kurtosis:                       6.893   Cond. No.                         16.4\n",
      "==============================================================================\n",
      "\n",
      "Notes:\n",
      "[1] Standard Errors assume that the covariance matrix of the errors is correctly specified.\n"
     ]
    }
   ],
   "source": [
    "import statsmodels.api as sm\n",
    "import statsmodels.formula.api as smf\n",
    "#F statistic\n",
    "model = smf.ols('META ~ VUG', data=returns).fit()\n",
    "f_statistic = model.fvalue\n",
    "p_value = model.f_pvalue\n",
    "\n",
    "print(\"F-statistic:\", f_statistic)\n",
    "print(\"P-value:\", p_value)\n",
    "\n",
    "# Percentage of variability in the range that can be explained by volume\n",
    "#R-Squared\n",
    "estimated=alpha+beta*z\n",
    "residuals=y-estimated\n",
    "r_squared=1-residuals.var()/y.var()\n",
    "print(\"R-squared (Explained Variability):\", r_squared)\n",
    "percentage_variability_explained = (r_squared) * 100\n",
    "print(f\"Percentage of Variability Explained: {percentage_variability_explained:.2f}%\")\n",
    "print(model.summary())"
   ]
  },
  {
   "cell_type": "code",
   "execution_count": 25,
   "id": "cbbae241",
   "metadata": {},
   "outputs": [
    {
     "name": "stdout",
     "output_type": "stream",
     "text": [
      "\n",
      "Alpha and Beta for META:\n",
      "Alpha (α): -0.005786214267413665\n",
      "Beta (β): 0.7096492011587824\n"
     ]
    },
    {
     "data": {
      "image/png": "[encoded data removed]",
      "text/plain": [
       "<Figure size 640x480 with 1 Axes>"
      ]
     },
     "metadata": {},
     "output_type": "display_data"
    }
   ],
   "source": [
    "# Print alpha and beta for META on VBR\n",
    "alpha = model3[1]\n",
    "beta = model3[0]\n",
    "\n",
    "print(\"\\nAlpha and Beta for META:\")\n",
    "print(\"Alpha (α):\", alpha)\n",
    "print(\"Beta (β):\", beta)\n",
    "#Scatter plot of data\n",
    "plt.scatter(returns.VBR,returns.META)\n",
    "plt.xlabel(\"VBR\")\n",
    "plt.ylabel(\"META\")\n",
    "plt.title('META vs VBR')\n",
    "plt.show()"
   ]
  },
  {
   "cell_type": "code",
   "execution_count": 26,
   "id": "358799c9",
   "metadata": {},
   "outputs": [
    {
     "name": "stdout",
     "output_type": "stream",
     "text": [
      "F-statistic: 13.00115060285501\n",
      "P-value: 0.0006557257222962044\n",
      "R-squared (Explained Variability): 0.1857276700581083\n",
      "Percentage of Variability Explained: 18.57%\n",
      "                            OLS Regression Results                            \n",
      "==============================================================================\n",
      "Dep. Variable:                   META   R-squared:                       0.186\n",
      "Model:                            OLS   Adj. R-squared:                  0.171\n",
      "Method:                 Least Squares   F-statistic:                     13.00\n",
      "Date:                Sat, 28 Oct 2023   Prob (F-statistic):           0.000656\n",
      "Time:                        15:57:10   Log-Likelihood:                 51.645\n",
      "No. Observations:                  59   AIC:                            -99.29\n",
      "Df Residuals:                      57   BIC:                            -95.14\n",
      "Df Model:                           1                                         \n",
      "Covariance Type:            nonrobust                                         \n",
      "==============================================================================\n",
      "                 coef    std err          t      P>|t|      [0.025      0.975]\n",
      "------------------------------------------------------------------------------\n",
      "Intercept     -0.0058      0.013     -0.431      0.668      -0.033       0.021\n",
      "VBR            0.7096      0.197      3.606      0.001       0.316       1.104\n",
      "==============================================================================\n",
      "Omnibus:                       23.709   Durbin-Watson:                   2.035\n",
      "Prob(Omnibus):                  0.000   Jarque-Bera (JB):               53.395\n",
      "Skew:                          -1.177   Prob(JB):                     2.54e-12\n",
      "Kurtosis:                       7.022   Cond. No.                         14.7\n",
      "==============================================================================\n",
      "\n",
      "Notes:\n",
      "[1] Standard Errors assume that the covariance matrix of the errors is correctly specified.\n"
     ]
    }
   ],
   "source": [
    "import statsmodels.api as sm\n",
    "import statsmodels.formula.api as smf\n",
    "#F statistic\n",
    "model = smf.ols('META ~ VBR', data=returns).fit()\n",
    "f_statistic = model.fvalue\n",
    "p_value = model.f_pvalue\n",
    "\n",
    "print(\"F-statistic:\", f_statistic)\n",
    "print(\"P-value:\", p_value)\n",
    "\n",
    "# Percentage of variability in the range that can be explained by volume\n",
    "#R-Squared\n",
    "estimated=alpha+beta*q\n",
    "residuals=y-estimated\n",
    "r_squared=1-residuals.var()/y.var()\n",
    "print(\"R-squared (Explained Variability):\", r_squared)\n",
    "percentage_variability_explained = (r_squared) * 100\n",
    "print(f\"Percentage of Variability Explained: {percentage_variability_explained:.2f}%\")\n",
    "print(model.summary())"
   ]
  },
  {
   "cell_type": "markdown",
   "id": "fb0a92c2",
   "metadata": {},
   "source": [
    "## Multiple linear regressions: 2 variables"
   ]
  },
  {
   "cell_type": "code",
   "execution_count": 27,
   "id": "479bf1c2",
   "metadata": {},
   "outputs": [
    {
     "name": "stdout",
     "output_type": "stream",
     "text": [
      "\n",
      "Alpha and Betas for META:\n",
      "Alpha (α): -0.009995018786516142\n",
      "Beta (β) of SPY: -0.42156436954233306\n",
      "Beta (β) of VUG: 1.4584092585544206\n",
      "                            OLS Regression Results                            \n",
      "==============================================================================\n",
      "Dep. Variable:                   META   R-squared:                       0.370\n",
      "Model:                            OLS   Adj. R-squared:                  0.347\n",
      "Method:                 Least Squares   F-statistic:                     16.41\n",
      "Date:                Sat, 28 Oct 2023   Prob (F-statistic):           2.46e-06\n",
      "Time:                        15:57:12   Log-Likelihood:                 59.191\n",
      "No. Observations:                  59   AIC:                            -112.4\n",
      "Df Residuals:                      56   BIC:                            -106.1\n",
      "Df Model:                           2                                         \n",
      "Covariance Type:            nonrobust                                         \n",
      "==============================================================================\n",
      "                 coef    std err          t      P>|t|      [0.025      0.975]\n",
      "------------------------------------------------------------------------------\n",
      "const         -0.0100      0.012     -0.833      0.408      -0.034       0.014\n",
      "SPY           -0.4216      0.750     -0.562      0.576      -1.924       1.081\n",
      "VUG            1.4584      0.656      2.223      0.030       0.144       2.772\n",
      "==============================================================================\n",
      "Omnibus:                       16.704   Durbin-Watson:                   2.220\n",
      "Prob(Omnibus):                  0.000   Jarque-Bera (JB):               32.692\n",
      "Skew:                          -0.836   Prob(JB):                     7.96e-08\n",
      "Kurtosis:                       6.241   Cond. No.                         83.1\n",
      "==============================================================================\n",
      "\n",
      "Notes:\n",
      "[1] Standard Errors assume that the covariance matrix of the errors is correctly specified.\n"
     ]
    }
   ],
   "source": [
    "import statsmodels.api as sm\n",
    "import numpy as np\n",
    "\n",
    "x = returns[['SPY','VUG']]\n",
    "\n",
    "x = sm.add_constant(x)\n",
    "model = sm.OLS(y, x)\n",
    "results = model.fit()\n",
    "summary = results.summary()\n",
    "coefficients = results.params\n",
    "\n",
    "print(\"\\nAlpha and Betas for META:\")\n",
    "print(\"Alpha (α):\", coefficients[0])\n",
    "print(\"Beta (β) of SPY:\", coefficients[1])\n",
    "print(\"Beta (β) of VUG:\", coefficients[2])\n",
    "\n",
    "print(summary)"
   ]
  },
  {
   "cell_type": "code",
   "execution_count": 28,
   "id": "d92d522a",
   "metadata": {},
   "outputs": [
    {
     "name": "stdout",
     "output_type": "stream",
     "text": [
      "\n",
      "Alpha and Betas for META:\n",
      "Alpha (α): -0.012296105023308664\n",
      "Beta (β) of SPY: 2.049843999228137\n",
      "Beta (β) of VBR: -0.760174694308888\n",
      "                            OLS Regression Results                            \n",
      "==============================================================================\n",
      "Dep. Variable:                   META   R-squared:                       0.350\n",
      "Model:                            OLS   Adj. R-squared:                  0.327\n",
      "Method:                 Least Squares   F-statistic:                     15.10\n",
      "Date:                Sat, 28 Oct 2023   Prob (F-statistic):           5.69e-06\n",
      "Time:                        15:57:12   Log-Likelihood:                 58.308\n",
      "No. Observations:                  59   AIC:                            -110.6\n",
      "Df Residuals:                      56   BIC:                            -104.4\n",
      "Df Model:                           2                                         \n",
      "Covariance Type:            nonrobust                                         \n",
      "==============================================================================\n",
      "                 coef    std err          t      P>|t|      [0.025      0.975]\n",
      "------------------------------------------------------------------------------\n",
      "const         -0.0123      0.012     -1.006      0.319      -0.037       0.012\n",
      "SPY            2.0498      0.544      3.767      0.000       0.960       3.140\n",
      "VBR           -0.7602      0.429     -1.774      0.082      -1.619       0.098\n",
      "==============================================================================\n",
      "Omnibus:                       25.086   Durbin-Watson:                   2.213\n",
      "Prob(Omnibus):                  0.000   Jarque-Bera (JB):               64.726\n",
      "Skew:                          -1.183   Prob(JB):                     8.81e-15\n",
      "Kurtosis:                       7.553   Cond. No.                         56.3\n",
      "==============================================================================\n",
      "\n",
      "Notes:\n",
      "[1] Standard Errors assume that the covariance matrix of the errors is correctly specified.\n"
     ]
    }
   ],
   "source": [
    "import statsmodels.api as sm\n",
    "import numpy as np\n",
    "\n",
    "x = returns[['SPY','VBR']]\n",
    "\n",
    "x = sm.add_constant(x)\n",
    "model = sm.OLS(y, x)\n",
    "results = model.fit()\n",
    "summary = results.summary()\n",
    "coefficients = results.params\n",
    "\n",
    "print(\"\\nAlpha and Betas for META:\")\n",
    "print(\"Alpha (α):\", coefficients[0])\n",
    "print(\"Beta (β) of SPY:\", coefficients[1])\n",
    "print(\"Beta (β) of VBR:\", coefficients[2])\n",
    "\n",
    "print(summary)"
   ]
  },
  {
   "cell_type": "code",
   "execution_count": 29,
   "id": "8ac3e2ba",
   "metadata": {},
   "outputs": [
    {
     "name": "stdout",
     "output_type": "stream",
     "text": [
      "\n",
      "Alpha and Betas for META:\n",
      "Alpha (α): -0.010593334323774043\n",
      "Beta (β) of VUG: 1.3355206167544391\n",
      "Beta (β) of VBR: -0.25695348799937845\n",
      "                            OLS Regression Results                            \n",
      "==============================================================================\n",
      "Dep. Variable:                   META   R-squared:                       0.375\n",
      "Model:                            OLS   Adj. R-squared:                  0.352\n",
      "Method:                 Least Squares   F-statistic:                     16.77\n",
      "Date:                Sat, 28 Oct 2023   Prob (F-statistic):           1.96e-06\n",
      "Time:                        15:57:13   Log-Likelihood:                 59.429\n",
      "No. Observations:                  59   AIC:                            -112.9\n",
      "Df Residuals:                      56   BIC:                            -106.6\n",
      "Df Model:                           2                                         \n",
      "Covariance Type:            nonrobust                                         \n",
      "==============================================================================\n",
      "                 coef    std err          t      P>|t|      [0.025      0.975]\n",
      "------------------------------------------------------------------------------\n",
      "const         -0.0106      0.012     -0.888      0.378      -0.034       0.013\n",
      "VUG            1.3355      0.325      4.112      0.000       0.685       1.986\n",
      "VBR           -0.2570      0.292     -0.879      0.383      -0.843       0.329\n",
      "==============================================================================\n",
      "Omnibus:                       15.341   Durbin-Watson:                   2.220\n",
      "Prob(Omnibus):                  0.000   Jarque-Bera (JB):               28.905\n",
      "Skew:                          -0.772   Prob(JB):                     5.29e-07\n",
      "Kurtosis:                       6.062   Cond. No.                         35.2\n",
      "==============================================================================\n",
      "\n",
      "Notes:\n",
      "[1] Standard Errors assume that the covariance matrix of the errors is correctly specified.\n"
     ]
    }
   ],
   "source": [
    "import statsmodels.api as sm\n",
    "import numpy as np\n",
    "\n",
    "x = returns[['VUG','VBR']]\n",
    "\n",
    "x = sm.add_constant(x)\n",
    "model = sm.OLS(y, x)\n",
    "results = model.fit()\n",
    "summary = results.summary()\n",
    "coefficients = results.params\n",
    "\n",
    "print(\"\\nAlpha and Betas for META:\")\n",
    "print(\"Alpha (α):\", coefficients[0])\n",
    "print(\"Beta (β) of VUG:\", coefficients[1])\n",
    "print(\"Beta (β) of VBR:\", coefficients[2])\n",
    "\n",
    "print(summary)"
   ]
  },
  {
   "cell_type": "markdown",
   "id": "dc265f16",
   "metadata": {},
   "source": [
    "## Multiple linear regressions: 3 variables"
   ]
  },
  {
   "cell_type": "code",
   "execution_count": 30,
   "id": "0363683e",
   "metadata": {},
   "outputs": [
    {
     "name": "stdout",
     "output_type": "stream",
     "text": [
      "\n",
      "Alpha and Betas for META:\n",
      "Alpha (α): -0.010974218119823975\n",
      "Beta (β) of SPY: 0.3206989165669366\n",
      "Beta (β) of VUG: 1.1583841572010953\n",
      "Beta (β) of VBR: -0.35870290857272275\n",
      "                            OLS Regression Results                            \n",
      "==============================================================================\n",
      "Dep. Variable:                   META   R-squared:                       0.375\n",
      "Model:                            OLS   Adj. R-squared:                  0.341\n",
      "Method:                 Least Squares   F-statistic:                     11.01\n",
      "Date:                Sat, 28 Oct 2023   Prob (F-statistic):           9.09e-06\n",
      "Time:                        15:57:15   Log-Likelihood:                 59.462\n",
      "No. Observations:                  59   AIC:                            -110.9\n",
      "Df Residuals:                      55   BIC:                            -102.6\n",
      "Df Model:                           3                                         \n",
      "Covariance Type:            nonrobust                                         \n",
      "==============================================================================\n",
      "                 coef    std err          t      P>|t|      [0.025      0.975]\n",
      "------------------------------------------------------------------------------\n",
      "const         -0.0110      0.012     -0.905      0.369      -0.035       0.013\n",
      "SPY            0.3207      1.285      0.250      0.804      -2.255       2.896\n",
      "VUG            1.1584      0.782      1.482      0.144      -0.408       2.725\n",
      "VBR           -0.3587      0.503     -0.713      0.479      -1.367       0.650\n",
      "==============================================================================\n",
      "Omnibus:                       16.484   Durbin-Watson:                   2.223\n",
      "Prob(Omnibus):                  0.000   Jarque-Bera (JB):               32.186\n",
      "Skew:                          -0.824   Prob(JB):                     1.03e-07\n",
      "Kurtosis:                       6.222   Cond. No.                         128.\n",
      "==============================================================================\n",
      "\n",
      "Notes:\n",
      "[1] Standard Errors assume that the covariance matrix of the errors is correctly specified.\n"
     ]
    }
   ],
   "source": [
    "import statsmodels.api as sm\n",
    "import numpy as np\n",
    "\n",
    "x = returns[['SPY','VUG','VBR']]\n",
    "\n",
    "x = sm.add_constant(x)\n",
    "model = sm.OLS(y, x)\n",
    "results = model.fit()\n",
    "summary = results.summary()\n",
    "coefficients = results.params\n",
    "\n",
    "print(\"\\nAlpha and Betas for META:\")\n",
    "print(\"Alpha (α):\", coefficients[0])\n",
    "print(\"Beta (β) of SPY:\", coefficients[1])\n",
    "print(\"Beta (β) of VUG:\", coefficients[2])\n",
    "print(\"Beta (β) of VBR:\", coefficients[3])\n",
    "\n",
    "print(summary)"
   ]
  },
  {
   "cell_type": "code",
   "execution_count": 31,
   "id": "45ce3832",
   "metadata": {
    "scrolled": true
   },
   "outputs": [
    {
     "data": {
      "text/html": [
       "<div>\n",
       "<style scoped>\n",
       "    .dataframe tbody tr th:only-of-type {\n",
       "        vertical-align: middle;\n",
       "    }\n",
       "\n",
       "    .dataframe tbody tr th {\n",
       "        vertical-align: top;\n",
       "    }\n",
       "\n",
       "    .dataframe thead th {\n",
       "        text-align: right;\n",
       "    }\n",
       "</style>\n",
       "<table border=\"1\" class=\"dataframe\">\n",
       "  <thead>\n",
       "    <tr style=\"text-align: right;\">\n",
       "      <th></th>\n",
       "      <th>const</th>\n",
       "      <th>SPY</th>\n",
       "      <th>VUG</th>\n",
       "      <th>VBR</th>\n",
       "    </tr>\n",
       "  </thead>\n",
       "  <tbody>\n",
       "    <tr>\n",
       "      <th>const</th>\n",
       "      <td>NaN</td>\n",
       "      <td>NaN</td>\n",
       "      <td>NaN</td>\n",
       "      <td>NaN</td>\n",
       "    </tr>\n",
       "    <tr>\n",
       "      <th>SPY</th>\n",
       "      <td>NaN</td>\n",
       "      <td>1.000000</td>\n",
       "      <td>0.955251</td>\n",
       "      <td>0.910366</td>\n",
       "    </tr>\n",
       "    <tr>\n",
       "      <th>VUG</th>\n",
       "      <td>NaN</td>\n",
       "      <td>0.955251</td>\n",
       "      <td>1.000000</td>\n",
       "      <td>0.803725</td>\n",
       "    </tr>\n",
       "    <tr>\n",
       "      <th>VBR</th>\n",
       "      <td>NaN</td>\n",
       "      <td>0.910366</td>\n",
       "      <td>0.803725</td>\n",
       "      <td>1.000000</td>\n",
       "    </tr>\n",
       "  </tbody>\n",
       "</table>\n",
       "</div>"
      ],
      "text/plain": [
       "       const       SPY       VUG       VBR\n",
       "const    NaN       NaN       NaN       NaN\n",
       "SPY      NaN  1.000000  0.955251  0.910366\n",
       "VUG      NaN  0.955251  1.000000  0.803725\n",
       "VBR      NaN  0.910366  0.803725  1.000000"
      ]
     },
     "execution_count": 31,
     "metadata": {},
     "output_type": "execute_result"
    }
   ],
   "source": [
    "x.corr()"
   ]
  },
  {
   "cell_type": "markdown",
   "id": "851ff66c",
   "metadata": {},
   "source": [
    "## Comments"
   ]
  },
  {
   "cell_type": "markdown",
   "id": "eb828784",
   "metadata": {},
   "source": [
    "The simple linear regression analysis for META on SPY shows that index returns have an impact on stock's returns. The low p-value (<5%) and the F-statistic indicate a significative relationship. Approximately 31.4% of the variability in the stock's returns can be explained by SPY returns, as represented by the R-squared value. \n",
    "The simple linear regression analysis for META on VUG shows that index returns have an impact on stock's returns. The low p-value (<5%) and the F-statistic indicate a significative relationship. Approximately 36.6% of the variability in the stock's returns can be explained by SPY returns, as represented by the R-squared value. \n",
    "The simple linear regression analysis for META on VBR shows that index returns have an impact on stock's returns. The low p-value (<5%) and the F-statistic indicate a significative relationship. Approximately 18.6% of the variability in the stock's returns can be explained by SPY returns, as represented by the R-squared value. \n",
    "\n",
    "Therefore, considering the results of the different simple linear regressions, VUG has the greatest predictive power of FB, followed by SPY. This may be due to the fact the the weights of META and similar growth stocks are higher in VUG, in SPY are lower but still presents, and absents in VBR.\n",
    "\n",
    "However, the correlations between the indices are high. It is interesting to notice that the multiple linear regression using VUG and VBR as predictors has a slightly higher predictive power (37,5%) than the one using VUG and SPY (37%) (the two most predictive indices). This is due to the fact that VUG is the most predictive index but correlation between VUG and SPY is much higher than correlation between VUG and VBR. So, VUG and VBR have less common information. Then, if we add the remaining index, and perform a three predictors multiple linear regression, the explained volatility remain at 37.5%.\n",
    "Therefore, considering Multiple Linear Regressions, the volatility of META's returns explained by predictors does not increase by a considerable amount. Even if the F-statistic p-values show that the regression models are overall significative, the individual coefficients are not significative."
   ]
  }
 ],
 "metadata": {
  "kernelspec": {
   "display_name": "Python 3 (ipykernel)",
   "language": "python",
   "name": "python3"
  },
  "language_info": {
   "codemirror_mode": {
    "name": "ipython",
    "version": 3
   },
   "file_extension": ".py",
   "mimetype": "text/x-python",
   "name": "python",
   "nbconvert_exporter": "python",
   "pygments_lexer": "ipython3",
   "version": "3.10.9"
  }
 },
 "nbformat": 4,
 "nbformat_minor": 5
}
